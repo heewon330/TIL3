{
  "nbformat": 4,
  "nbformat_minor": 0,
  "metadata": {
    "colab": {
      "name": "matploblib_practice.ipynb",
      "provenance": [],
      "collapsed_sections": [],
      "mount_file_id": "1OTaWNRu5CZqBrPAO76wKnDG8BzRM7ClH",
      "authorship_tag": "ABX9TyMaYh1txeU6kTMlU7yuQ8Sp",
      "include_colab_link": true
    },
    "kernelspec": {
      "name": "python3",
      "display_name": "Python 3"
    },
    "language_info": {
      "name": "python"
    }
  },
  "cells": [
    {
      "cell_type": "markdown",
      "metadata": {
        "id": "view-in-github",
        "colab_type": "text"
      },
      "source": [
        "<a href=\"https://colab.research.google.com/github/heewon330/TIL3/blob/master/matploblib_practice.ipynb\" target=\"_parent\"><img src=\"https://colab.research.google.com/assets/colab-badge.svg\" alt=\"Open In Colab\"/></a>"
      ]
    },
    {
      "cell_type": "code",
      "execution_count": 1,
      "metadata": {
        "id": "tJtnhYb7I5v2"
      },
      "outputs": [],
      "source": [
        "import numpy as np\n",
        "import pandas as pd\n",
        "\n",
        "#시각화 라이브러리\n",
        "import matplotlib.pyplot as plt\n",
        "import seaborn as sns "
      ]
    },
    {
      "cell_type": "code",
      "source": [
        "rawData=pd.read_csv('/content/drive/MyDrive/멀티캠퍼스/data/health_2016.csv')\n",
        "\n",
        "rawData"
      ],
      "metadata": {
        "colab": {
          "base_uri": "https://localhost:8080/",
          "height": 582
        },
        "id": "fOzxAnG2JhHN",
        "outputId": "9ab2c401-2044-4680-a733-b85c7215f3c0"
      },
      "execution_count": 2,
      "outputs": [
        {
          "output_type": "execute_result",
          "data": {
            "text/html": [
              "<div>\n",
              "<style scoped>\n",
              "    .dataframe tbody tr th:only-of-type {\n",
              "        vertical-align: middle;\n",
              "    }\n",
              "\n",
              "    .dataframe tbody tr th {\n",
              "        vertical-align: top;\n",
              "    }\n",
              "\n",
              "    .dataframe thead th {\n",
              "        text-align: right;\n",
              "    }\n",
              "</style>\n",
              "<table border=\"1\" class=\"dataframe\">\n",
              "  <thead>\n",
              "    <tr style=\"text-align: right;\">\n",
              "      <th></th>\n",
              "      <th>기준년도</th>\n",
              "      <th>가입자일련번호</th>\n",
              "      <th>성별코드</th>\n",
              "      <th>연령대코드(5세단위)</th>\n",
              "      <th>시도코드</th>\n",
              "      <th>신장(5Cm단위)</th>\n",
              "      <th>체중(5Kg단위)</th>\n",
              "      <th>허리둘레</th>\n",
              "      <th>시력(좌)</th>\n",
              "      <th>시력(우)</th>\n",
              "      <th>청력(좌)</th>\n",
              "      <th>청력(우)</th>\n",
              "      <th>수축기혈압</th>\n",
              "      <th>이완기혈압</th>\n",
              "      <th>식전혈당(공복혈당)</th>\n",
              "      <th>총콜레스테롤</th>\n",
              "      <th>트리글리세라이드</th>\n",
              "      <th>HDL콜레스테롤</th>\n",
              "      <th>LDL콜레스테롤</th>\n",
              "      <th>혈색소</th>\n",
              "      <th>요단백</th>\n",
              "      <th>혈청크레아티닌</th>\n",
              "      <th>(혈청지오티)AST</th>\n",
              "      <th>(혈청지오티)ALT</th>\n",
              "      <th>감마지티피</th>\n",
              "      <th>흡연상태</th>\n",
              "      <th>음주여부</th>\n",
              "      <th>구강검진 수검여부</th>\n",
              "      <th>치아우식증유무</th>\n",
              "      <th>결손치유무</th>\n",
              "      <th>치아마모증유무</th>\n",
              "      <th>제3대구치(사랑니)이상</th>\n",
              "      <th>치석</th>\n",
              "      <th>데이터공개일자</th>\n",
              "    </tr>\n",
              "  </thead>\n",
              "  <tbody>\n",
              "    <tr>\n",
              "      <th>0</th>\n",
              "      <td>2016</td>\n",
              "      <td>465969</td>\n",
              "      <td>1</td>\n",
              "      <td>8</td>\n",
              "      <td>41</td>\n",
              "      <td>170.0</td>\n",
              "      <td>70.0</td>\n",
              "      <td>74.0</td>\n",
              "      <td>0.7</td>\n",
              "      <td>0.7</td>\n",
              "      <td>1.0</td>\n",
              "      <td>1.0</td>\n",
              "      <td>118.0</td>\n",
              "      <td>70.0</td>\n",
              "      <td>85.0</td>\n",
              "      <td>194.0</td>\n",
              "      <td>97.0</td>\n",
              "      <td>54.0</td>\n",
              "      <td>120.0</td>\n",
              "      <td>14.6</td>\n",
              "      <td>2.0</td>\n",
              "      <td>1.1</td>\n",
              "      <td>31.0</td>\n",
              "      <td>36.0</td>\n",
              "      <td>96.0</td>\n",
              "      <td>3.0</td>\n",
              "      <td>NaN</td>\n",
              "      <td>1</td>\n",
              "      <td>NaN</td>\n",
              "      <td>NaN</td>\n",
              "      <td>NaN</td>\n",
              "      <td>NaN</td>\n",
              "      <td>2.0</td>\n",
              "      <td>20171219</td>\n",
              "    </tr>\n",
              "    <tr>\n",
              "      <th>1</th>\n",
              "      <td>2016</td>\n",
              "      <td>565871</td>\n",
              "      <td>1</td>\n",
              "      <td>10</td>\n",
              "      <td>41</td>\n",
              "      <td>160.0</td>\n",
              "      <td>60.0</td>\n",
              "      <td>81.0</td>\n",
              "      <td>1.2</td>\n",
              "      <td>1.0</td>\n",
              "      <td>1.0</td>\n",
              "      <td>1.0</td>\n",
              "      <td>134.0</td>\n",
              "      <td>84.0</td>\n",
              "      <td>105.0</td>\n",
              "      <td>143.0</td>\n",
              "      <td>84.0</td>\n",
              "      <td>33.0</td>\n",
              "      <td>93.0</td>\n",
              "      <td>16.2</td>\n",
              "      <td>1.0</td>\n",
              "      <td>1.0</td>\n",
              "      <td>20.0</td>\n",
              "      <td>23.0</td>\n",
              "      <td>14.0</td>\n",
              "      <td>1.0</td>\n",
              "      <td>NaN</td>\n",
              "      <td>0</td>\n",
              "      <td>NaN</td>\n",
              "      <td>NaN</td>\n",
              "      <td>NaN</td>\n",
              "      <td>NaN</td>\n",
              "      <td>NaN</td>\n",
              "      <td>20171219</td>\n",
              "    </tr>\n",
              "    <tr>\n",
              "      <th>2</th>\n",
              "      <td>2016</td>\n",
              "      <td>115718</td>\n",
              "      <td>2</td>\n",
              "      <td>11</td>\n",
              "      <td>11</td>\n",
              "      <td>160.0</td>\n",
              "      <td>55.0</td>\n",
              "      <td>71.0</td>\n",
              "      <td>1.0</td>\n",
              "      <td>1.0</td>\n",
              "      <td>1.0</td>\n",
              "      <td>1.0</td>\n",
              "      <td>129.0</td>\n",
              "      <td>85.0</td>\n",
              "      <td>86.0</td>\n",
              "      <td>203.0</td>\n",
              "      <td>52.0</td>\n",
              "      <td>51.0</td>\n",
              "      <td>141.0</td>\n",
              "      <td>14.0</td>\n",
              "      <td>1.0</td>\n",
              "      <td>0.8</td>\n",
              "      <td>17.0</td>\n",
              "      <td>14.0</td>\n",
              "      <td>20.0</td>\n",
              "      <td>1.0</td>\n",
              "      <td>NaN</td>\n",
              "      <td>1</td>\n",
              "      <td>NaN</td>\n",
              "      <td>NaN</td>\n",
              "      <td>NaN</td>\n",
              "      <td>NaN</td>\n",
              "      <td>0.0</td>\n",
              "      <td>20171219</td>\n",
              "    </tr>\n",
              "    <tr>\n",
              "      <th>3</th>\n",
              "      <td>2016</td>\n",
              "      <td>767524</td>\n",
              "      <td>1</td>\n",
              "      <td>6</td>\n",
              "      <td>28</td>\n",
              "      <td>180.0</td>\n",
              "      <td>70.0</td>\n",
              "      <td>79.0</td>\n",
              "      <td>1.0</td>\n",
              "      <td>0.9</td>\n",
              "      <td>1.0</td>\n",
              "      <td>1.0</td>\n",
              "      <td>137.0</td>\n",
              "      <td>78.0</td>\n",
              "      <td>92.0</td>\n",
              "      <td>154.0</td>\n",
              "      <td>53.0</td>\n",
              "      <td>55.0</td>\n",
              "      <td>94.0</td>\n",
              "      <td>14.6</td>\n",
              "      <td>1.0</td>\n",
              "      <td>1.0</td>\n",
              "      <td>21.0</td>\n",
              "      <td>23.0</td>\n",
              "      <td>16.0</td>\n",
              "      <td>1.0</td>\n",
              "      <td>NaN</td>\n",
              "      <td>0</td>\n",
              "      <td>NaN</td>\n",
              "      <td>NaN</td>\n",
              "      <td>NaN</td>\n",
              "      <td>NaN</td>\n",
              "      <td>NaN</td>\n",
              "      <td>20171219</td>\n",
              "    </tr>\n",
              "    <tr>\n",
              "      <th>4</th>\n",
              "      <td>2016</td>\n",
              "      <td>482178</td>\n",
              "      <td>2</td>\n",
              "      <td>9</td>\n",
              "      <td>11</td>\n",
              "      <td>160.0</td>\n",
              "      <td>60.0</td>\n",
              "      <td>85.0</td>\n",
              "      <td>0.8</td>\n",
              "      <td>1.2</td>\n",
              "      <td>1.0</td>\n",
              "      <td>1.0</td>\n",
              "      <td>92.0</td>\n",
              "      <td>60.0</td>\n",
              "      <td>90.0</td>\n",
              "      <td>239.0</td>\n",
              "      <td>148.0</td>\n",
              "      <td>46.0</td>\n",
              "      <td>163.0</td>\n",
              "      <td>10.3</td>\n",
              "      <td>1.0</td>\n",
              "      <td>0.9</td>\n",
              "      <td>17.0</td>\n",
              "      <td>12.0</td>\n",
              "      <td>13.0</td>\n",
              "      <td>1.0</td>\n",
              "      <td>NaN</td>\n",
              "      <td>1</td>\n",
              "      <td>NaN</td>\n",
              "      <td>NaN</td>\n",
              "      <td>NaN</td>\n",
              "      <td>NaN</td>\n",
              "      <td>0.0</td>\n",
              "      <td>20171219</td>\n",
              "    </tr>\n",
              "    <tr>\n",
              "      <th>...</th>\n",
              "      <td>...</td>\n",
              "      <td>...</td>\n",
              "      <td>...</td>\n",
              "      <td>...</td>\n",
              "      <td>...</td>\n",
              "      <td>...</td>\n",
              "      <td>...</td>\n",
              "      <td>...</td>\n",
              "      <td>...</td>\n",
              "      <td>...</td>\n",
              "      <td>...</td>\n",
              "      <td>...</td>\n",
              "      <td>...</td>\n",
              "      <td>...</td>\n",
              "      <td>...</td>\n",
              "      <td>...</td>\n",
              "      <td>...</td>\n",
              "      <td>...</td>\n",
              "      <td>...</td>\n",
              "      <td>...</td>\n",
              "      <td>...</td>\n",
              "      <td>...</td>\n",
              "      <td>...</td>\n",
              "      <td>...</td>\n",
              "      <td>...</td>\n",
              "      <td>...</td>\n",
              "      <td>...</td>\n",
              "      <td>...</td>\n",
              "      <td>...</td>\n",
              "      <td>...</td>\n",
              "      <td>...</td>\n",
              "      <td>...</td>\n",
              "      <td>...</td>\n",
              "      <td>...</td>\n",
              "    </tr>\n",
              "    <tr>\n",
              "      <th>995</th>\n",
              "      <td>2016</td>\n",
              "      <td>206725</td>\n",
              "      <td>2</td>\n",
              "      <td>12</td>\n",
              "      <td>41</td>\n",
              "      <td>150.0</td>\n",
              "      <td>60.0</td>\n",
              "      <td>86.0</td>\n",
              "      <td>0.8</td>\n",
              "      <td>0.8</td>\n",
              "      <td>1.0</td>\n",
              "      <td>1.0</td>\n",
              "      <td>117.0</td>\n",
              "      <td>80.0</td>\n",
              "      <td>121.0</td>\n",
              "      <td>226.0</td>\n",
              "      <td>103.0</td>\n",
              "      <td>73.0</td>\n",
              "      <td>132.0</td>\n",
              "      <td>13.6</td>\n",
              "      <td>1.0</td>\n",
              "      <td>0.9</td>\n",
              "      <td>24.0</td>\n",
              "      <td>36.0</td>\n",
              "      <td>34.0</td>\n",
              "      <td>1.0</td>\n",
              "      <td>NaN</td>\n",
              "      <td>0</td>\n",
              "      <td>NaN</td>\n",
              "      <td>NaN</td>\n",
              "      <td>NaN</td>\n",
              "      <td>NaN</td>\n",
              "      <td>NaN</td>\n",
              "      <td>20171219</td>\n",
              "    </tr>\n",
              "    <tr>\n",
              "      <th>996</th>\n",
              "      <td>2016</td>\n",
              "      <td>339681</td>\n",
              "      <td>2</td>\n",
              "      <td>12</td>\n",
              "      <td>48</td>\n",
              "      <td>155.0</td>\n",
              "      <td>55.0</td>\n",
              "      <td>66.0</td>\n",
              "      <td>0.8</td>\n",
              "      <td>0.7</td>\n",
              "      <td>1.0</td>\n",
              "      <td>1.0</td>\n",
              "      <td>122.0</td>\n",
              "      <td>85.0</td>\n",
              "      <td>103.0</td>\n",
              "      <td>181.0</td>\n",
              "      <td>70.0</td>\n",
              "      <td>81.0</td>\n",
              "      <td>86.0</td>\n",
              "      <td>11.0</td>\n",
              "      <td>1.0</td>\n",
              "      <td>0.7</td>\n",
              "      <td>24.0</td>\n",
              "      <td>20.0</td>\n",
              "      <td>21.0</td>\n",
              "      <td>1.0</td>\n",
              "      <td>NaN</td>\n",
              "      <td>0</td>\n",
              "      <td>NaN</td>\n",
              "      <td>NaN</td>\n",
              "      <td>NaN</td>\n",
              "      <td>NaN</td>\n",
              "      <td>NaN</td>\n",
              "      <td>20171219</td>\n",
              "    </tr>\n",
              "    <tr>\n",
              "      <th>997</th>\n",
              "      <td>2016</td>\n",
              "      <td>653494</td>\n",
              "      <td>2</td>\n",
              "      <td>11</td>\n",
              "      <td>11</td>\n",
              "      <td>155.0</td>\n",
              "      <td>45.0</td>\n",
              "      <td>66.0</td>\n",
              "      <td>1.2</td>\n",
              "      <td>1.0</td>\n",
              "      <td>1.0</td>\n",
              "      <td>1.0</td>\n",
              "      <td>104.0</td>\n",
              "      <td>71.0</td>\n",
              "      <td>80.0</td>\n",
              "      <td>222.0</td>\n",
              "      <td>46.0</td>\n",
              "      <td>61.0</td>\n",
              "      <td>152.0</td>\n",
              "      <td>13.2</td>\n",
              "      <td>1.0</td>\n",
              "      <td>0.8</td>\n",
              "      <td>18.0</td>\n",
              "      <td>14.0</td>\n",
              "      <td>16.0</td>\n",
              "      <td>1.0</td>\n",
              "      <td>NaN</td>\n",
              "      <td>1</td>\n",
              "      <td>NaN</td>\n",
              "      <td>NaN</td>\n",
              "      <td>NaN</td>\n",
              "      <td>NaN</td>\n",
              "      <td>0.0</td>\n",
              "      <td>20171219</td>\n",
              "    </tr>\n",
              "    <tr>\n",
              "      <th>998</th>\n",
              "      <td>2016</td>\n",
              "      <td>190984</td>\n",
              "      <td>2</td>\n",
              "      <td>14</td>\n",
              "      <td>41</td>\n",
              "      <td>145.0</td>\n",
              "      <td>50.0</td>\n",
              "      <td>80.0</td>\n",
              "      <td>0.5</td>\n",
              "      <td>0.5</td>\n",
              "      <td>1.0</td>\n",
              "      <td>1.0</td>\n",
              "      <td>133.0</td>\n",
              "      <td>68.0</td>\n",
              "      <td>91.0</td>\n",
              "      <td>164.0</td>\n",
              "      <td>101.0</td>\n",
              "      <td>52.0</td>\n",
              "      <td>91.0</td>\n",
              "      <td>13.9</td>\n",
              "      <td>1.0</td>\n",
              "      <td>0.8</td>\n",
              "      <td>37.0</td>\n",
              "      <td>25.0</td>\n",
              "      <td>17.0</td>\n",
              "      <td>1.0</td>\n",
              "      <td>NaN</td>\n",
              "      <td>0</td>\n",
              "      <td>NaN</td>\n",
              "      <td>NaN</td>\n",
              "      <td>NaN</td>\n",
              "      <td>NaN</td>\n",
              "      <td>NaN</td>\n",
              "      <td>20171219</td>\n",
              "    </tr>\n",
              "    <tr>\n",
              "      <th>999</th>\n",
              "      <td>2016</td>\n",
              "      <td>548105</td>\n",
              "      <td>1</td>\n",
              "      <td>6</td>\n",
              "      <td>41</td>\n",
              "      <td>170.0</td>\n",
              "      <td>80.0</td>\n",
              "      <td>85.0</td>\n",
              "      <td>1.2</td>\n",
              "      <td>1.5</td>\n",
              "      <td>1.0</td>\n",
              "      <td>1.0</td>\n",
              "      <td>121.0</td>\n",
              "      <td>72.0</td>\n",
              "      <td>94.0</td>\n",
              "      <td>202.0</td>\n",
              "      <td>82.0</td>\n",
              "      <td>42.0</td>\n",
              "      <td>144.0</td>\n",
              "      <td>15.6</td>\n",
              "      <td>1.0</td>\n",
              "      <td>1.0</td>\n",
              "      <td>18.0</td>\n",
              "      <td>19.0</td>\n",
              "      <td>33.0</td>\n",
              "      <td>3.0</td>\n",
              "      <td>NaN</td>\n",
              "      <td>1</td>\n",
              "      <td>NaN</td>\n",
              "      <td>NaN</td>\n",
              "      <td>NaN</td>\n",
              "      <td>NaN</td>\n",
              "      <td>0.0</td>\n",
              "      <td>20171219</td>\n",
              "    </tr>\n",
              "  </tbody>\n",
              "</table>\n",
              "<p>1000 rows × 34 columns</p>\n",
              "</div>"
            ],
            "text/plain": [
              "     기준년도  가입자일련번호  성별코드  연령대코드(5세단위)  ...  치아마모증유무  제3대구치(사랑니)이상   치석   데이터공개일자\n",
              "0    2016   465969     1            8  ...      NaN           NaN  2.0  20171219\n",
              "1    2016   565871     1           10  ...      NaN           NaN  NaN  20171219\n",
              "2    2016   115718     2           11  ...      NaN           NaN  0.0  20171219\n",
              "3    2016   767524     1            6  ...      NaN           NaN  NaN  20171219\n",
              "4    2016   482178     2            9  ...      NaN           NaN  0.0  20171219\n",
              "..    ...      ...   ...          ...  ...      ...           ...  ...       ...\n",
              "995  2016   206725     2           12  ...      NaN           NaN  NaN  20171219\n",
              "996  2016   339681     2           12  ...      NaN           NaN  NaN  20171219\n",
              "997  2016   653494     2           11  ...      NaN           NaN  0.0  20171219\n",
              "998  2016   190984     2           14  ...      NaN           NaN  NaN  20171219\n",
              "999  2016   548105     1            6  ...      NaN           NaN  0.0  20171219\n",
              "\n",
              "[1000 rows x 34 columns]"
            ]
          },
          "metadata": {},
          "execution_count": 2
        }
      ]
    },
    {
      "cell_type": "code",
      "source": [
        "# 그래프(한글화 x)\n",
        "\n",
        "x= np.linspace(1,10,10)\n",
        "y=x*x**2\n",
        "plt.plot(x,y)\n",
        "plt.title('한글 안나옴')"
      ],
      "metadata": {
        "colab": {
          "base_uri": "https://localhost:8080/",
          "height": 643
        },
        "id": "ebhP1b5NJ0gD",
        "outputId": "c76760ea-186f-467b-b8b3-a1613b0a6cde"
      },
      "execution_count": 3,
      "outputs": [
        {
          "output_type": "execute_result",
          "data": {
            "text/plain": [
              "Text(0.5, 1.0, '한글 안나옴')"
            ]
          },
          "metadata": {},
          "execution_count": 3
        },
        {
          "output_type": "stream",
          "name": "stderr",
          "text": [
            "/usr/local/lib/python3.7/dist-packages/matplotlib/backends/backend_agg.py:214: RuntimeWarning: Glyph 54620 missing from current font.\n",
            "  font.set_text(s, 0.0, flags=flags)\n",
            "/usr/local/lib/python3.7/dist-packages/matplotlib/backends/backend_agg.py:214: RuntimeWarning: Glyph 44544 missing from current font.\n",
            "  font.set_text(s, 0.0, flags=flags)\n",
            "/usr/local/lib/python3.7/dist-packages/matplotlib/backends/backend_agg.py:214: RuntimeWarning: Glyph 50504 missing from current font.\n",
            "  font.set_text(s, 0.0, flags=flags)\n",
            "/usr/local/lib/python3.7/dist-packages/matplotlib/backends/backend_agg.py:214: RuntimeWarning: Glyph 45208 missing from current font.\n",
            "  font.set_text(s, 0.0, flags=flags)\n",
            "/usr/local/lib/python3.7/dist-packages/matplotlib/backends/backend_agg.py:214: RuntimeWarning: Glyph 50740 missing from current font.\n",
            "  font.set_text(s, 0.0, flags=flags)\n",
            "/usr/local/lib/python3.7/dist-packages/matplotlib/backends/backend_agg.py:183: RuntimeWarning: Glyph 54620 missing from current font.\n",
            "  font.set_text(s, 0, flags=flags)\n",
            "/usr/local/lib/python3.7/dist-packages/matplotlib/backends/backend_agg.py:183: RuntimeWarning: Glyph 44544 missing from current font.\n",
            "  font.set_text(s, 0, flags=flags)\n",
            "/usr/local/lib/python3.7/dist-packages/matplotlib/backends/backend_agg.py:183: RuntimeWarning: Glyph 50504 missing from current font.\n",
            "  font.set_text(s, 0, flags=flags)\n",
            "/usr/local/lib/python3.7/dist-packages/matplotlib/backends/backend_agg.py:183: RuntimeWarning: Glyph 45208 missing from current font.\n",
            "  font.set_text(s, 0, flags=flags)\n",
            "/usr/local/lib/python3.7/dist-packages/matplotlib/backends/backend_agg.py:183: RuntimeWarning: Glyph 50740 missing from current font.\n",
            "  font.set_text(s, 0, flags=flags)\n"
          ]
        },
        {
          "output_type": "display_data",
          "data": {
            "image/png": "[encoded data removed]",
            "text/plain": [
              "<Figure size 432x288 with 1 Axes>"
            ]
          },
          "metadata": {
            "needs_background": "light"
          }
        }
      ]
    },
    {
      "cell_type": "code",
      "source": [
        "#폰트설정 라이브러리 임포트\n",
        "from matplotlib import font_manager,rcParams\n",
        "\n",
        "#한글 표현 가능한 폰트 설치\n",
        "#한글화 할 때마다 설치해야함\n",
        "!apt-get install fonts-nanum*"
      ],
      "metadata": {
        "colab": {
          "base_uri": "https://localhost:8080/"
        },
        "id": "ojVKz2TdQies",
        "outputId": "5e7ca032-b3a0-404d-bae0-1a97983e2af7"
      },
      "execution_count": 4,
      "outputs": [
        {
          "output_type": "stream",
          "name": "stdout",
          "text": [
            "Reading package lists... Done\n",
            "Building dependency tree       \n",
            "Reading state information... Done\n",
            "Note, selecting 'fonts-nanum-eco' for glob 'fonts-nanum*'\n",
            "Note, selecting 'fonts-nanum' for glob 'fonts-nanum*'\n",
            "Note, selecting 'fonts-nanum-gothic-light' for glob 'fonts-nanum*'\n",
            "Note, selecting 'fonts-nanum-coding' for glob 'fonts-nanum*'\n",
            "Note, selecting 'fonts-nanum-extra' for glob 'fonts-nanum*'\n",
            "fonts-nanum is already the newest version (20170925-1).\n",
            "fonts-nanum-coding is already the newest version (2.5-1).\n",
            "fonts-nanum-eco is already the newest version (1.000-6).\n",
            "fonts-nanum-extra is already the newest version (20170925-1).\n",
            "0 upgraded, 0 newly installed, 0 to remove and 37 not upgraded.\n"
          ]
        }
      ]
    },
    {
      "cell_type": "code",
      "source": [
        "#설치된 폰트들\n",
        "font_manager.findSystemFonts(fontext='ttf')"
      ],
      "metadata": {
        "colab": {
          "base_uri": "https://localhost:8080/"
        },
        "id": "o31E4PlpRRc2",
        "outputId": "1681450b-e1f6-4047-95f3-c7816de1f5bb"
      },
      "execution_count": 5,
      "outputs": [
        {
          "output_type": "execute_result",
          "data": {
            "text/plain": [
              "['/usr/share/fonts/truetype/nanum/NanumMyeongjoExtraBold.ttf',\n",
              " '/usr/share/fonts/truetype/nanum/NanumSquareRoundB.ttf',\n",
              " '/usr/share/fonts/truetype/nanum/NanumMyeongjoBold.ttf',\n",
              " '/usr/share/fonts/truetype/nanum/NanumGothicLight.ttf',\n",
              " '/usr/share/fonts/truetype/liberation/LiberationSansNarrow-Italic.ttf',\n",
              " '/usr/share/fonts/truetype/nanum/NanumMyeongjoEco.ttf',\n",
              " '/usr/share/fonts/truetype/nanum/NanumSquareRoundR.ttf',\n",
              " '/usr/share/fonts/truetype/liberation/LiberationSans-Bold.ttf',\n",
              " '/usr/share/fonts/truetype/nanum/NanumGothicBold.ttf',\n",
              " '/usr/share/fonts/truetype/nanum/NanumMyeongjoEcoBold.ttf',\n",
              " '/usr/share/fonts/truetype/nanum/NanumMyeongjoEcoExtraBold.ttf',\n",
              " '/usr/share/fonts/truetype/liberation/LiberationSans-BoldItalic.ttf',\n",
              " '/usr/share/fonts/truetype/liberation/LiberationSansNarrow-BoldItalic.ttf',\n",
              " '/usr/share/fonts/truetype/nanum/NanumGothicEcoExtraBold.ttf',\n",
              " '/usr/share/fonts/truetype/nanum/NanumSquareL.ttf',\n",
              " '/usr/share/fonts/truetype/nanum/NanumBarunGothicBold.ttf',\n",
              " '/usr/share/fonts/truetype/nanum/NanumBarunpenR.ttf',\n",
              " '/usr/share/fonts/truetype/nanum/NanumSquareB.ttf',\n",
              " '/usr/share/fonts/truetype/nanum/NanumSquareR.ttf',\n",
              " '/usr/share/fonts/truetype/liberation/LiberationMono-Bold.ttf',\n",
              " '/usr/share/fonts/truetype/nanum/NanumBarunGothicUltraLight.ttf',\n",
              " '/usr/share/fonts/truetype/nanum/NanumGothic.ttf',\n",
              " '/usr/share/fonts/truetype/liberation/LiberationSans-Regular.ttf',\n",
              " '/usr/share/fonts/truetype/nanum/NanumBarunGothic.ttf',\n",
              " '/usr/share/fonts/truetype/nanum/NanumGothicCoding.ttf',\n",
              " '/usr/share/fonts/truetype/liberation/LiberationMono-Regular.ttf',\n",
              " '/usr/share/fonts/truetype/liberation/LiberationSerif-Italic.ttf',\n",
              " '/usr/share/fonts/truetype/nanum/NanumPen.ttf',\n",
              " '/usr/share/fonts/truetype/nanum/NanumSquareRoundEB.ttf',\n",
              " '/usr/share/fonts/truetype/nanum/NanumGothicEco.ttf',\n",
              " '/usr/share/fonts/truetype/nanum/NanumGothicEcoBold.ttf',\n",
              " '/usr/share/fonts/truetype/nanum/NanumGothicExtraBold.ttf',\n",
              " '/usr/share/fonts/truetype/humor-sans/Humor-Sans.ttf',\n",
              " '/usr/share/fonts/truetype/nanum/NanumBarunpenB.ttf',\n",
              " '/usr/share/fonts/truetype/liberation/LiberationMono-BoldItalic.ttf',\n",
              " '/usr/share/fonts/truetype/liberation/LiberationSerif-Regular.ttf',\n",
              " '/usr/share/fonts/truetype/liberation/LiberationSerif-BoldItalic.ttf',\n",
              " '/usr/share/fonts/truetype/liberation/LiberationMono-Italic.ttf',\n",
              " '/usr/share/fonts/truetype/nanum/NanumSquareRoundL.ttf',\n",
              " '/usr/share/fonts/truetype/liberation/LiberationSerif-Bold.ttf',\n",
              " '/usr/share/fonts/truetype/liberation/LiberationSans-Italic.ttf',\n",
              " '/usr/share/fonts/truetype/nanum/NanumBarunGothicLight.ttf',\n",
              " '/usr/share/fonts/truetype/nanum/NanumSquareEB.ttf',\n",
              " '/usr/share/fonts/truetype/nanum/NanumBrush.ttf',\n",
              " '/usr/share/fonts/truetype/nanum/NanumMyeongjo.ttf',\n",
              " '/usr/share/fonts/truetype/nanum/NanumGothicCoding-Bold.ttf',\n",
              " '/usr/share/fonts/truetype/liberation/LiberationSansNarrow-Regular.ttf',\n",
              " '/usr/share/fonts/truetype/liberation/LiberationSansNarrow-Bold.ttf']"
            ]
          },
          "metadata": {},
          "execution_count": 5
        }
      ]
    },
    {
      "cell_type": "code",
      "source": [
        "#설치된 폰트 이름 확인\n",
        "#위에서 하나 선택\n",
        "\n",
        "font_manager.FontProperties( fname='/usr/share/fonts/truetype/nanum/NanumGothicCoding.ttf').get_name()"
      ],
      "metadata": {
        "colab": {
          "base_uri": "https://localhost:8080/",
          "height": 35
        },
        "id": "cxFbEdQKR8ZG",
        "outputId": "b4162ab6-6c77-4636-9209-9d8131abe6f8"
      },
      "execution_count": 6,
      "outputs": [
        {
          "output_type": "execute_result",
          "data": {
            "application/vnd.google.colaboratory.intrinsic+json": {
              "type": "string"
            },
            "text/plain": [
              "'NanumGothicCoding'"
            ]
          },
          "metadata": {},
          "execution_count": 6
        }
      ]
    },
    {
      "cell_type": "code",
      "source": [
        "#폰트 변경\n",
        "rcParams['font.family'] = 'NanumGothicCoding'\n",
        "\n",
        "# - 부호도 깨져서 나오기 때문에, 같이 설정\n",
        "rcParams['axes.unicode_minus'] = False"
      ],
      "metadata": {
        "id": "LTzXj2L6SMS0"
      },
      "execution_count": 7,
      "outputs": []
    },
    {
      "cell_type": "code",
      "source": [
        "font_manager._rebuild()"
      ],
      "metadata": {
        "id": "DBkV0ttaStcX"
      },
      "execution_count": 8,
      "outputs": []
    },
    {
      "cell_type": "code",
      "source": [
        "x = np.linspace(1, 10, 1000)\n",
        "y = x * x ** 2\n",
        "plt.plot(x, y)\n",
        "plt.title('한글이 나오지 않습니다')"
      ],
      "metadata": {
        "colab": {
          "base_uri": "https://localhost:8080/",
          "height": 298
        },
        "id": "Uzhfz4FwS2ia",
        "outputId": "c2b293f5-77ab-42d6-dab8-3a3977e08437"
      },
      "execution_count": 9,
      "outputs": [
        {
          "output_type": "execute_result",
          "data": {
            "text/plain": [
              "Text(0.5, 1.0, '한글이 나오지 않습니다')"
            ]
          },
          "metadata": {},
          "execution_count": 9
        },
        {
          "output_type": "display_data",
          "data": {
            "image/png": "[encoded data removed]",
            "text/plain": [
              "<Figure size 432x288 with 1 Axes>"
            ]
          },
          "metadata": {
            "needs_background": "light"
          }
        }
      ]
    },
    {
      "cell_type": "markdown",
      "source": [
        "- 밑에 명령 하루에 두 번 실행\n",
        "- 실행 후 런타임 다시 실행해야함"
      ],
      "metadata": {
        "id": "EOLa3CNeTEnH"
      }
    },
    {
      "cell_type": "code",
      "source": [
        "from matplotlib import font_manager, rcParams\n",
        "!apt-get install fonts-nanum*\n",
        "rcParams['font.family'] = 'NanumGothicCoding'\n",
        "rcParams['axes.unicode_minus'] = False\n",
        "font_manager._rebuild()"
      ],
      "metadata": {
        "id": "351VASprS4f8",
        "colab": {
          "base_uri": "https://localhost:8080/"
        },
        "outputId": "ec9fd5d1-1382-4f0a-be3d-1f1d33193691"
      },
      "execution_count": 10,
      "outputs": [
        {
          "output_type": "stream",
          "name": "stdout",
          "text": [
            "Reading package lists... Done\n",
            "Building dependency tree       \n",
            "Reading state information... Done\n",
            "Note, selecting 'fonts-nanum-eco' for glob 'fonts-nanum*'\n",
            "Note, selecting 'fonts-nanum' for glob 'fonts-nanum*'\n",
            "Note, selecting 'fonts-nanum-gothic-light' for glob 'fonts-nanum*'\n",
            "Note, selecting 'fonts-nanum-coding' for glob 'fonts-nanum*'\n",
            "Note, selecting 'fonts-nanum-extra' for glob 'fonts-nanum*'\n",
            "fonts-nanum is already the newest version (20170925-1).\n",
            "fonts-nanum-coding is already the newest version (2.5-1).\n",
            "fonts-nanum-eco is already the newest version (1.000-6).\n",
            "fonts-nanum-extra is already the newest version (20170925-1).\n",
            "0 upgraded, 0 newly installed, 0 to remove and 37 not upgraded.\n"
          ]
        }
      ]
    },
    {
      "cell_type": "code",
      "source": [
        "# 범주형 변수들\n",
        "rawData['흡연상태'].unique()"
      ],
      "metadata": {
        "colab": {
          "base_uri": "https://localhost:8080/"
        },
        "id": "_bsGqDzCsNn5",
        "outputId": "47f4e641-a924-4615-a850-c5b070ca449c"
      },
      "execution_count": 11,
      "outputs": [
        {
          "output_type": "execute_result",
          "data": {
            "text/plain": [
              "array([3., 1., 2.])"
            ]
          },
          "metadata": {},
          "execution_count": 11
        }
      ]
    },
    {
      "cell_type": "code",
      "source": [
        "rawData['구강검진 수검여부'].unique()"
      ],
      "metadata": {
        "colab": {
          "base_uri": "https://localhost:8080/"
        },
        "id": "fA-sBDuu0YWP",
        "outputId": "2eb2ad61-cead-4b8d-bfdc-dd9d9ada4ac3"
      },
      "execution_count": 12,
      "outputs": [
        {
          "output_type": "execute_result",
          "data": {
            "text/plain": [
              "array([1, 0])"
            ]
          },
          "metadata": {},
          "execution_count": 12
        }
      ]
    },
    {
      "cell_type": "code",
      "source": [
        "rawData['성별코드'].unique()"
      ],
      "metadata": {
        "colab": {
          "base_uri": "https://localhost:8080/"
        },
        "id": "sPOtFU9c0caB",
        "outputId": "f8b5849b-fd5e-4ddd-e298-4940213d41c9"
      },
      "execution_count": 14,
      "outputs": [
        {
          "output_type": "execute_result",
          "data": {
            "text/plain": [
              "array([1, 2])"
            ]
          },
          "metadata": {},
          "execution_count": 14
        }
      ]
    },
    {
      "cell_type": "code",
      "source": [
        "sns.countplot(data=rawData, x='흡연상태')\n",
        "# 빈도수 분포표"
      ],
      "metadata": {
        "colab": {
          "base_uri": "https://localhost:8080/",
          "height": 296
        },
        "id": "UH8IzRm30gei",
        "outputId": "adee315e-0545-41a6-c4ce-6a4e9674d750"
      },
      "execution_count": 15,
      "outputs": [
        {
          "output_type": "execute_result",
          "data": {
            "text/plain": [
              "<matplotlib.axes._subplots.AxesSubplot at 0x7ff1cf45f950>"
            ]
          },
          "metadata": {},
          "execution_count": 15
        },
        {
          "output_type": "display_data",
          "data": {
            "image/png": "[encoded data removed]",
            "text/plain": [
              "<Figure size 432x288 with 1 Axes>"
            ]
          },
          "metadata": {
            "needs_background": "light"
          }
        }
      ]
    },
    {
      "cell_type": "code",
      "source": [
        "sns.countplot(data=rawData,x='성별코드')"
      ],
      "metadata": {
        "colab": {
          "base_uri": "https://localhost:8080/",
          "height": 296
        },
        "id": "5ee6tZg00qQt",
        "outputId": "405ffde1-9625-4347-942e-0a437b0956f7"
      },
      "execution_count": 16,
      "outputs": [
        {
          "output_type": "execute_result",
          "data": {
            "text/plain": [
              "<matplotlib.axes._subplots.AxesSubplot at 0x7ff1cf3ed310>"
            ]
          },
          "metadata": {},
          "execution_count": 16
        },
        {
          "output_type": "display_data",
          "data": {
            "image/png": "[encoded data removed]",
            "text/plain": [
              "<Figure size 432x288 with 1 Axes>"
            ]
          },
          "metadata": {
            "needs_background": "light"
          }
        }
      ]
    },
    {
      "cell_type": "code",
      "source": [
        "sns.countplot(data=rawData,x='구강검진 수검여부')"
      ],
      "metadata": {
        "colab": {
          "base_uri": "https://localhost:8080/",
          "height": 296
        },
        "id": "L4Ke4GNN4gqu",
        "outputId": "bc860353-e8fb-470d-fd32-6a773c735deb"
      },
      "execution_count": 17,
      "outputs": [
        {
          "output_type": "execute_result",
          "data": {
            "text/plain": [
              "<matplotlib.axes._subplots.AxesSubplot at 0x7ff1cf3f0d90>"
            ]
          },
          "metadata": {},
          "execution_count": 17
        },
        {
          "output_type": "display_data",
          "data": {
            "image/png": "[encoded data removed]",
            "text/plain": [
              "<Figure size 432x288 with 1 Axes>"
            ]
          },
          "metadata": {
            "needs_background": "light"
          }
        }
      ]
    },
    {
      "cell_type": "code",
      "source": [
        "# 이산형 데이터 확인\n",
        "\n",
        "rawData['연령대코드(5세단위)'].unique()"
      ],
      "metadata": {
        "colab": {
          "base_uri": "https://localhost:8080/"
        },
        "id": "mGuE3z8Z4pkk",
        "outputId": "5607b1e4-c3d6-425a-af9a-b9c86f940dfc"
      },
      "execution_count": 20,
      "outputs": [
        {
          "output_type": "execute_result",
          "data": {
            "text/plain": [
              "array([ 8, 10, 11,  6,  9, 14,  7, 15, 13,  5, 12, 16, 17, 18])"
            ]
          },
          "metadata": {},
          "execution_count": 20
        }
      ]
    },
    {
      "cell_type": "code",
      "source": [
        "rawData['시도코드'].unique()"
      ],
      "metadata": {
        "colab": {
          "base_uri": "https://localhost:8080/"
        },
        "id": "oQ_QFg6h5CZU",
        "outputId": "560b3584-18ff-4b03-8af7-830702963402"
      },
      "execution_count": 21,
      "outputs": [
        {
          "output_type": "execute_result",
          "data": {
            "text/plain": [
              "array([41, 11, 28, 42, 26, 29, 45, 43, 47, 48, 30, 27, 31, 44, 46, 36, 49])"
            ]
          },
          "metadata": {},
          "execution_count": 21
        }
      ]
    },
    {
      "cell_type": "code",
      "source": [
        "sns.countplot(data=rawData,x='연령대코드(5세단위)')"
      ],
      "metadata": {
        "colab": {
          "base_uri": "https://localhost:8080/",
          "height": 297
        },
        "id": "DwzF1x8D5KTk",
        "outputId": "a3d092c8-d062-4ce0-bd61-1c3bcef7a71c"
      },
      "execution_count": 22,
      "outputs": [
        {
          "output_type": "execute_result",
          "data": {
            "text/plain": [
              "<matplotlib.axes._subplots.AxesSubplot at 0x7ff1cf564950>"
            ]
          },
          "metadata": {},
          "execution_count": 22
        },
        {
          "output_type": "display_data",
          "data": {
            "image/png": "[encoded data removed]",
            "text/plain": [
              "<Figure size 432x288 with 1 Axes>"
            ]
          },
          "metadata": {
            "needs_background": "light"
          }
        }
      ]
    },
    {
      "cell_type": "code",
      "source": [
        "sns.countplot(data=rawData,x='시도코드')"
      ],
      "metadata": {
        "colab": {
          "base_uri": "https://localhost:8080/",
          "height": 296
        },
        "id": "3IgUFcJN5SFE",
        "outputId": "dbba8358-f63e-492d-9088-703282a97e8a"
      },
      "execution_count": 23,
      "outputs": [
        {
          "output_type": "execute_result",
          "data": {
            "text/plain": [
              "<matplotlib.axes._subplots.AxesSubplot at 0x7ff1cf0f2410>"
            ]
          },
          "metadata": {},
          "execution_count": 23
        },
        {
          "output_type": "display_data",
          "data": {
            "image/png": "[encoded data removed]",
            "text/plain": [
              "<Figure size 432x288 with 1 Axes>"
            ]
          },
          "metadata": {
            "needs_background": "light"
          }
        }
      ]
    },
    {
      "cell_type": "code",
      "source": [
        "# 연속형\n",
        "\n",
        "rawData.columns"
      ],
      "metadata": {
        "colab": {
          "base_uri": "https://localhost:8080/"
        },
        "id": "MeKtSyVf5b0Z",
        "outputId": "02082d90-3bf0-444e-9221-0170725eee88"
      },
      "execution_count": 24,
      "outputs": [
        {
          "output_type": "execute_result",
          "data": {
            "text/plain": [
              "Index(['기준년도', '가입자일련번호', '성별코드', '연령대코드(5세단위)', '시도코드', '신장(5Cm단위)',\n",
              "       '체중(5Kg단위)', '허리둘레', '시력(좌)', '시력(우)', '청력(좌)', '청력(우)', '수축기혈압',\n",
              "       '이완기혈압', '식전혈당(공복혈당)', '총콜레스테롤', '트리글리세라이드', 'HDL콜레스테롤', 'LDL콜레스테롤',\n",
              "       '혈색소', '요단백', '혈청크레아티닌', '(혈청지오티)AST', '(혈청지오티)ALT', '감마지티피', '흡연상태',\n",
              "       '음주여부', '구강검진 수검여부', '치아우식증유무', '결손치유무', '치아마모증유무', '제3대구치(사랑니)이상',\n",
              "       '치석', '데이터공개일자'],\n",
              "      dtype='object')"
            ]
          },
          "metadata": {},
          "execution_count": 24
        }
      ]
    },
    {
      "cell_type": "code",
      "source": [
        "rawData['수축기혈압'].unique()"
      ],
      "metadata": {
        "colab": {
          "base_uri": "https://localhost:8080/"
        },
        "id": "WVX_2_7v6Vs5",
        "outputId": "24835727-4814-4e30-b06f-2ff24bb7b422"
      },
      "execution_count": 25,
      "outputs": [
        {
          "output_type": "execute_result",
          "data": {
            "text/plain": [
              "array([118., 134., 129., 137.,  92., 120., 138., 130., 140., 110., 119.,\n",
              "       114., 100., 141., 124., 112., 132., 105., 122., 128., 131., 125.,\n",
              "       108., 121., 126.,  91., 127., 117., 152., 109., 116., 136., 153.,\n",
              "       139., 150., 133., 106., 113., 170., 163., 145., 155., 104., 115.,\n",
              "       103., 135., 148., 154., 142., 123., 102.,  96.,  99., 107., 167.,\n",
              "        94.,  97., 101., 161., 160., 143.,  90., 111.,  88., 177., 144.,\n",
              "        98., 146., 156.,  95.,  89.,  93., 180., 165.])"
            ]
          },
          "metadata": {},
          "execution_count": 25
        }
      ]
    },
    {
      "cell_type": "code",
      "source": [
        "rawData['이완기혈압'].unique()"
      ],
      "metadata": {
        "colab": {
          "base_uri": "https://localhost:8080/"
        },
        "id": "MgM4xyM46c8m",
        "outputId": "f2f0cd81-bdf8-440b-ace3-f30efab383f9"
      },
      "execution_count": 26,
      "outputs": [
        {
          "output_type": "execute_result",
          "data": {
            "text/plain": [
              "array([ 70.,  84.,  85.,  78.,  60.,  72.,  80.,  89.,  73.,  76.,  74.,\n",
              "        66.,  68.,  86.,  87.,  75.,  64.,  77.,  82.,  71.,  61.,  83.,\n",
              "        79.,  90.,  81.,  65.,  62.,  69., 100.,  97., 106.,  57.,  93.,\n",
              "        88.,  55.,  59.,  96.,  63.,  95.,  98.,  58.,  67.,  92.,  94.,\n",
              "       104., 103., 101.,  51.,  91.,  52., 110.,  56.,  99.,  53., 107.,\n",
              "        54.])"
            ]
          },
          "metadata": {},
          "execution_count": 26
        }
      ]
    },
    {
      "cell_type": "code",
      "source": [
        "rawData['총콜레스테롤'].unique()"
      ],
      "metadata": {
        "colab": {
          "base_uri": "https://localhost:8080/"
        },
        "id": "9VyyGh0Z6f-A",
        "outputId": "88be1c6e-a5c0-4312-9105-310b5b9a0c90"
      },
      "execution_count": 27,
      "outputs": [
        {
          "output_type": "execute_result",
          "data": {
            "text/plain": [
              "array([194., 143., 203., 154., 239., 209., 193., 229., 166., 212., 206.,\n",
              "       170., 207., 276., 173., 176., 218., 153., 140., 254., 125., 223.,\n",
              "       200., 172., 294., 234., 146., 225., 168., 186., 163., 227., 120.,\n",
              "       175., 202., 211., 187., 162., 208., 185., 111., 189., 221., 270.,\n",
              "       161., 199., 195., 182., 240., 264., 157., 201., 214., 244., 222.,\n",
              "       192., 259., 238., 245., 178., 147., 190., 136., 171., 181., 133.,\n",
              "       188., 160., 265., 110., 177., 204., 165., 231., 249., 138., 228.,\n",
              "       256., 242., 151., 180., 250., 152., 141., 145., 253., 215., 213.,\n",
              "       306., 196., 205., 164., 169., 210., 261., 248., 241., 183., 219.,\n",
              "       262., 216., 260., 255., 174., 304., 109., 217., 232., 279., 124.,\n",
              "       184., 191., 150., 220., 103., 247., 246., 277., 197., 149., 275.,\n",
              "       159., 324., 101., 179., 252., 267., 310., 243., 278., 235., 230.,\n",
              "       132., 271., 167., 148., 251., 158., 226., 142., 236., 198., 130.,\n",
              "       119., 135., 156., 233., 127., 144., 126., 237., 139., 137., 128.,\n",
              "       274., 272., 287., 134., 337., 118., 257., 122., 333., 273., 305.,\n",
              "       301., 323., 224., 117.,  97., 424., 284., 114.])"
            ]
          },
          "metadata": {},
          "execution_count": 27
        }
      ]
    },
    {
      "cell_type": "code",
      "source": [
        "rawData['(혈청지오티)AST'].unique()"
      ],
      "metadata": {
        "colab": {
          "base_uri": "https://localhost:8080/"
        },
        "id": "dUU7a4uE6h2k",
        "outputId": "ea31855f-3471-4af1-cfdf-74baf495c65c"
      },
      "execution_count": 28,
      "outputs": [
        {
          "output_type": "execute_result",
          "data": {
            "text/plain": [
              "array([ 31.,  20.,  17.,  21.,  29.,  19.,  24.,  27.,  23.,  15.,  18.,\n",
              "        13.,  12.,  32.,  28.,  37.,  22.,  25.,  30.,  38.,  26.,  16.,\n",
              "        34.,  14.,  33.,  49.,  40.,  10.,   8.,  53.,  45.,  41.,  99.,\n",
              "        36.,  42.,  63.,  44.,  90.,  98.,  66.,  35.,  59.,   5.,  43.,\n",
              "        39.,  11.,  65., 187., 100.,  76.,  82.,  62., 123.,  56.,  47.,\n",
              "        52.,  50.,  61.,  46.,  55.,  78.,  83.,  70.,  68.,  51.,  58.,\n",
              "        48.,  87.,  54.])"
            ]
          },
          "metadata": {},
          "execution_count": 28
        }
      ]
    },
    {
      "cell_type": "code",
      "source": [
        "sns.histplot (data=rawData, x='총콜레스테롤')"
      ],
      "metadata": {
        "colab": {
          "base_uri": "https://localhost:8080/",
          "height": 296
        },
        "id": "uzp4R17X6oY5",
        "outputId": "00276821-9eac-4916-f03e-cde87bfb47c7"
      },
      "execution_count": 29,
      "outputs": [
        {
          "output_type": "execute_result",
          "data": {
            "text/plain": [
              "<matplotlib.axes._subplots.AxesSubplot at 0x7ff1cef18fd0>"
            ]
          },
          "metadata": {},
          "execution_count": 29
        },
        {
          "output_type": "display_data",
          "data": {
            "image/png": "[encoded data removed]",
            "text/plain": [
              "<Figure size 432x288 with 1 Axes>"
            ]
          },
          "metadata": {
            "needs_background": "light"
          }
        }
      ]
    },
    {
      "cell_type": "code",
      "source": [
        "sns.histplot(data=rawData,x='트리글리세라이드', bins=50)\n",
        "\n",
        "# 최솟값과 최댓값 차이가 너무 커서 그래프가 이렇게 나옴\n",
        "# bins는 파라미터는 히스토그램의 가로축 구간의 개수"
      ],
      "metadata": {
        "colab": {
          "base_uri": "https://localhost:8080/",
          "height": 296
        },
        "id": "kQnDnhO560RB",
        "outputId": "774b89e3-65b8-4548-ce9b-55025cadf96e"
      },
      "execution_count": 33,
      "outputs": [
        {
          "output_type": "execute_result",
          "data": {
            "text/plain": [
              "<matplotlib.axes._subplots.AxesSubplot at 0x7ff1ce0d9390>"
            ]
          },
          "metadata": {},
          "execution_count": 33
        },
        {
          "output_type": "display_data",
          "data": {
            "image/png": "[encoded data removed]",
            "text/plain": [
              "<Figure size 432x288 with 1 Axes>"
            ]
          },
          "metadata": {
            "needs_background": "light"
          }
        }
      ]
    },
    {
      "cell_type": "code",
      "source": [
        "rawData[rawData['트리글리세라이드']>1800]"
      ],
      "metadata": {
        "colab": {
          "base_uri": "https://localhost:8080/",
          "height": 240
        },
        "id": "vxaqN7iG7JgL",
        "outputId": "4b85de44-27ea-4cdd-b098-4d895c7fd425"
      },
      "execution_count": 32,
      "outputs": [
        {
          "output_type": "execute_result",
          "data": {
            "text/html": [
              "<div>\n",
              "<style scoped>\n",
              "    .dataframe tbody tr th:only-of-type {\n",
              "        vertical-align: middle;\n",
              "    }\n",
              "\n",
              "    .dataframe tbody tr th {\n",
              "        vertical-align: top;\n",
              "    }\n",
              "\n",
              "    .dataframe thead th {\n",
              "        text-align: right;\n",
              "    }\n",
              "</style>\n",
              "<table border=\"1\" class=\"dataframe\">\n",
              "  <thead>\n",
              "    <tr style=\"text-align: right;\">\n",
              "      <th></th>\n",
              "      <th>기준년도</th>\n",
              "      <th>가입자일련번호</th>\n",
              "      <th>성별코드</th>\n",
              "      <th>연령대코드(5세단위)</th>\n",
              "      <th>시도코드</th>\n",
              "      <th>신장(5Cm단위)</th>\n",
              "      <th>체중(5Kg단위)</th>\n",
              "      <th>허리둘레</th>\n",
              "      <th>시력(좌)</th>\n",
              "      <th>시력(우)</th>\n",
              "      <th>청력(좌)</th>\n",
              "      <th>청력(우)</th>\n",
              "      <th>수축기혈압</th>\n",
              "      <th>이완기혈압</th>\n",
              "      <th>식전혈당(공복혈당)</th>\n",
              "      <th>총콜레스테롤</th>\n",
              "      <th>트리글리세라이드</th>\n",
              "      <th>HDL콜레스테롤</th>\n",
              "      <th>LDL콜레스테롤</th>\n",
              "      <th>혈색소</th>\n",
              "      <th>요단백</th>\n",
              "      <th>혈청크레아티닌</th>\n",
              "      <th>(혈청지오티)AST</th>\n",
              "      <th>(혈청지오티)ALT</th>\n",
              "      <th>감마지티피</th>\n",
              "      <th>흡연상태</th>\n",
              "      <th>음주여부</th>\n",
              "      <th>구강검진 수검여부</th>\n",
              "      <th>치아우식증유무</th>\n",
              "      <th>결손치유무</th>\n",
              "      <th>치아마모증유무</th>\n",
              "      <th>제3대구치(사랑니)이상</th>\n",
              "      <th>치석</th>\n",
              "      <th>데이터공개일자</th>\n",
              "    </tr>\n",
              "  </thead>\n",
              "  <tbody>\n",
              "    <tr>\n",
              "      <th>942</th>\n",
              "      <td>2016</td>\n",
              "      <td>819247</td>\n",
              "      <td>1</td>\n",
              "      <td>12</td>\n",
              "      <td>11</td>\n",
              "      <td>170.0</td>\n",
              "      <td>70.0</td>\n",
              "      <td>89.0</td>\n",
              "      <td>0.8</td>\n",
              "      <td>0.8</td>\n",
              "      <td>1.0</td>\n",
              "      <td>1.0</td>\n",
              "      <td>122.0</td>\n",
              "      <td>93.0</td>\n",
              "      <td>118.0</td>\n",
              "      <td>424.0</td>\n",
              "      <td>1879.0</td>\n",
              "      <td>35.0</td>\n",
              "      <td>65.0</td>\n",
              "      <td>16.4</td>\n",
              "      <td>1.0</td>\n",
              "      <td>0.9</td>\n",
              "      <td>53.0</td>\n",
              "      <td>93.0</td>\n",
              "      <td>99.0</td>\n",
              "      <td>1.0</td>\n",
              "      <td>NaN</td>\n",
              "      <td>1</td>\n",
              "      <td>NaN</td>\n",
              "      <td>NaN</td>\n",
              "      <td>NaN</td>\n",
              "      <td>NaN</td>\n",
              "      <td>0.0</td>\n",
              "      <td>20171219</td>\n",
              "    </tr>\n",
              "  </tbody>\n",
              "</table>\n",
              "</div>"
            ],
            "text/plain": [
              "     기준년도  가입자일련번호  성별코드  연령대코드(5세단위)  ...  치아마모증유무  제3대구치(사랑니)이상   치석   데이터공개일자\n",
              "942  2016   819247     1           12  ...      NaN           NaN  0.0  20171219\n",
              "\n",
              "[1 rows x 34 columns]"
            ]
          },
          "metadata": {},
          "execution_count": 32
        }
      ]
    },
    {
      "cell_type": "code",
      "source": [
        "# 아웃라이어 제거하면 확인하기 편함\n",
        "tmp=rawData.drop(index=942)"
      ],
      "metadata": {
        "id": "a92Hr4i97xAS"
      },
      "execution_count": 34,
      "outputs": []
    },
    {
      "cell_type": "code",
      "source": [
        "sns.histplot(data=tmp,x='트리글리세라이드')"
      ],
      "metadata": {
        "colab": {
          "base_uri": "https://localhost:8080/",
          "height": 296
        },
        "id": "WCrmr2Q48ZaZ",
        "outputId": "bfbc2794-2cc5-4039-e2ed-380258ac8d53"
      },
      "execution_count": 36,
      "outputs": [
        {
          "output_type": "execute_result",
          "data": {
            "text/plain": [
              "<matplotlib.axes._subplots.AxesSubplot at 0x7ff1cde5fc10>"
            ]
          },
          "metadata": {},
          "execution_count": 36
        },
        {
          "output_type": "display_data",
          "data": {
            "image/png": "[encoded data removed]",
            "text/plain": [
              "<Figure size 432x288 with 1 Axes>"
            ]
          },
          "metadata": {
            "needs_background": "light"
          }
        }
      ]
    },
    {
      "cell_type": "code",
      "source": [
        "plt.hist(rawData['트리글리세라이드'],bins=50)\n",
        "plt.xlim(21,500)\n",
        "plt.show()"
      ],
      "metadata": {
        "colab": {
          "base_uri": "https://localhost:8080/",
          "height": 264
        },
        "id": "rQi3C0Du8c-O",
        "outputId": "f730fab3-861b-419d-c4cf-2387df724d94"
      },
      "execution_count": 44,
      "outputs": [
        {
          "output_type": "display_data",
          "data": {
            "image/png": "[encoded data removed]",
            "text/plain": [
              "<Figure size 432x288 with 1 Axes>"
            ]
          },
          "metadata": {
            "needs_background": "light"
          }
        }
      ]
    },
    {
      "cell_type": "code",
      "source": [
        "sns.displot(data=rawData,x='총콜레스테롤',kde=True)\n",
        "\n",
        "# 확률밀도함수도 확인 가능"
      ],
      "metadata": {
        "colab": {
          "base_uri": "https://localhost:8080/",
          "height": 387
        },
        "id": "prgA_76i8o_g",
        "outputId": "3414883b-725c-42f4-b20a-d43fd5158523"
      },
      "execution_count": 45,
      "outputs": [
        {
          "output_type": "execute_result",
          "data": {
            "text/plain": [
              "<seaborn.axisgrid.FacetGrid at 0x7ff1cd610510>"
            ]
          },
          "metadata": {},
          "execution_count": 45
        },
        {
          "output_type": "display_data",
          "data": {
            "image/png": "[encoded data removed]",
            "text/plain": [
              "<Figure size 360x360 with 1 Axes>"
            ]
          },
          "metadata": {
            "needs_background": "light"
          }
        }
      ]
    },
    {
      "cell_type": "markdown",
      "source": [
        "**2차원 시각화**\n",
        "\n",
        "- 두 자료 간의 관계 파악\n",
        " -  타겟변수, 입력변수 (인과성)\n",
        " -  입력변수, 입력변수(상관성)\n",
        "\n",
        "- 두 변수 모두 연속형\n",
        "- 연속형 변수, 범주형\n",
        "- 두 변수 모두 범주형\n"
      ],
      "metadata": {
        "id": "6sMAFH8j-iOi"
      }
    },
    {
      "cell_type": "code",
      "source": [
        "# 두 변수 모두 연속형\n",
        "#산포도\n",
        "sns.scatterplot(data=rawData_without_outlier, x='총콜레스테롤', y='트리글리세라이드')"
      ],
      "metadata": {
        "colab": {
          "base_uri": "https://localhost:8080/",
          "height": 208
        },
        "id": "vMjzHCO49_WH",
        "outputId": "88bbb46f-887e-41c2-cb95-510594219bbf"
      },
      "execution_count": 66,
      "outputs": [
        {
          "output_type": "error",
          "ename": "NameError",
          "evalue": "ignored",
          "traceback": [
            "\u001b[0;31m---------------------------------------------------------------------------\u001b[0m",
            "\u001b[0;31mNameError\u001b[0m                                 Traceback (most recent call last)",
            "\u001b[0;32m<ipython-input-66-21bfa5b77b74>\u001b[0m in \u001b[0;36m<module>\u001b[0;34m()\u001b[0m\n\u001b[1;32m      1\u001b[0m \u001b[0;31m# 두 변수 모두 연속형\u001b[0m\u001b[0;34m\u001b[0m\u001b[0;34m\u001b[0m\u001b[0;34m\u001b[0m\u001b[0m\n\u001b[1;32m      2\u001b[0m \u001b[0;31m#산포도\u001b[0m\u001b[0;34m\u001b[0m\u001b[0;34m\u001b[0m\u001b[0;34m\u001b[0m\u001b[0m\n\u001b[0;32m----> 3\u001b[0;31m \u001b[0msns\u001b[0m\u001b[0;34m.\u001b[0m\u001b[0mscatterplot\u001b[0m\u001b[0;34m(\u001b[0m\u001b[0mdata\u001b[0m\u001b[0;34m=\u001b[0m\u001b[0mrawData_without_outlier\u001b[0m\u001b[0;34m,\u001b[0m \u001b[0mx\u001b[0m\u001b[0;34m=\u001b[0m\u001b[0;34m'총콜레스테롤'\u001b[0m\u001b[0;34m,\u001b[0m \u001b[0my\u001b[0m\u001b[0;34m=\u001b[0m\u001b[0;34m'트리글리세라이드'\u001b[0m\u001b[0;34m)\u001b[0m\u001b[0;34m\u001b[0m\u001b[0;34m\u001b[0m\u001b[0m\n\u001b[0m",
            "\u001b[0;31mNameError\u001b[0m: name 'rawData_without_outlier' is not defined"
          ]
        }
      ]
    },
    {
      "cell_type": "code",
      "source": [
        "rawData[['총콜레스테롤','트리글리세라이드']].corr()\n",
        "# 상관계수\n",
        "# 0.3정도면 상관관계가 크진 않음"
      ],
      "metadata": {
        "colab": {
          "base_uri": "https://localhost:8080/",
          "height": 112
        },
        "id": "uaoVaZeG_gt3",
        "outputId": "a2034157-6c51-4c24-c1a7-cc1510bfd9ec"
      },
      "execution_count": 48,
      "outputs": [
        {
          "output_type": "execute_result",
          "data": {
            "text/html": [
              "<div>\n",
              "<style scoped>\n",
              "    .dataframe tbody tr th:only-of-type {\n",
              "        vertical-align: middle;\n",
              "    }\n",
              "\n",
              "    .dataframe tbody tr th {\n",
              "        vertical-align: top;\n",
              "    }\n",
              "\n",
              "    .dataframe thead th {\n",
              "        text-align: right;\n",
              "    }\n",
              "</style>\n",
              "<table border=\"1\" class=\"dataframe\">\n",
              "  <thead>\n",
              "    <tr style=\"text-align: right;\">\n",
              "      <th></th>\n",
              "      <th>총콜레스테롤</th>\n",
              "      <th>트리글리세라이드</th>\n",
              "    </tr>\n",
              "  </thead>\n",
              "  <tbody>\n",
              "    <tr>\n",
              "      <th>총콜레스테롤</th>\n",
              "      <td>1.000000</td>\n",
              "      <td>0.300108</td>\n",
              "    </tr>\n",
              "    <tr>\n",
              "      <th>트리글리세라이드</th>\n",
              "      <td>0.300108</td>\n",
              "      <td>1.000000</td>\n",
              "    </tr>\n",
              "  </tbody>\n",
              "</table>\n",
              "</div>"
            ],
            "text/plain": [
              "            총콜레스테롤  트리글리세라이드\n",
              "총콜레스테롤    1.000000  0.300108\n",
              "트리글리세라이드  0.300108  1.000000"
            ]
          },
          "metadata": {},
          "execution_count": 48
        }
      ]
    },
    {
      "cell_type": "code",
      "source": [
        "sns.lmplot(data=tmp,x='총콜레스테롤',y='트리글리세라이드', line_kws={'color':'red'})\n",
        "# 회귀선 추가\n",
        "# 기울기가 낮으면 관계가 엄청 높진 않다"
      ],
      "metadata": {
        "colab": {
          "base_uri": "https://localhost:8080/",
          "height": 387
        },
        "id": "c7NBYinxAH7j",
        "outputId": "40a16267-6495-4596-9f1b-b664344b6a82"
      },
      "execution_count": 51,
      "outputs": [
        {
          "output_type": "execute_result",
          "data": {
            "text/plain": [
              "<seaborn.axisgrid.FacetGrid at 0x7ff1cd96e710>"
            ]
          },
          "metadata": {},
          "execution_count": 51
        },
        {
          "output_type": "display_data",
          "data": {
            "image/png": "[encoded data removed]",
            "text/plain": [
              "<Figure size 360x360 with 1 Axes>"
            ]
          },
          "metadata": {
            "needs_background": "light"
          }
        }
      ]
    },
    {
      "cell_type": "markdown",
      "source": [
        "LDL 콜레스테롤 수치와 비교"
      ],
      "metadata": {
        "id": "qugDgJ0sF2IL"
      }
    },
    {
      "cell_type": "code",
      "source": [
        "sns.jointplot(data=tmp,x='LDL콜레스테롤',y='트리글리세라이드')\n",
        "#LDL콜레스테롤(나쁜 콜레스테롤)과 트리글리세라이드와는 관계가 높아보이진 않음"
      ],
      "metadata": {
        "colab": {
          "base_uri": "https://localhost:8080/",
          "height": 459
        },
        "id": "3I1cKLTtArBb",
        "outputId": "79eb6e50-5012-4386-c051-bc84bc9045b6"
      },
      "execution_count": 52,
      "outputs": [
        {
          "output_type": "execute_result",
          "data": {
            "text/plain": [
              "<seaborn.axisgrid.JointGrid at 0x7ff1cd7ef910>"
            ]
          },
          "metadata": {},
          "execution_count": 52
        },
        {
          "output_type": "display_data",
          "data": {
            "image/png": "[encoded data removed]",
            "text/plain": [
              "<Figure size 432x432 with 3 Axes>"
            ]
          },
          "metadata": {
            "needs_background": "light"
          }
        }
      ]
    },
    {
      "cell_type": "code",
      "source": [
        "sns.jointplot(data=tmp,x='LDL콜레스테롤',y='총콜레스테롤')"
      ],
      "metadata": {
        "colab": {
          "base_uri": "https://localhost:8080/",
          "height": 459
        },
        "id": "sX7NCAnaGGll",
        "outputId": "2b0fc60d-a08c-492a-efcc-ba530afc8779"
      },
      "execution_count": 53,
      "outputs": [
        {
          "output_type": "execute_result",
          "data": {
            "text/plain": [
              "<seaborn.axisgrid.JointGrid at 0x7ff1c4ce9350>"
            ]
          },
          "metadata": {},
          "execution_count": 53
        },
        {
          "output_type": "display_data",
          "data": {
            "image/png": "[encoded data removed]",
            "text/plain": [
              "<Figure size 432x432 with 3 Axes>"
            ]
          },
          "metadata": {
            "needs_background": "light"
          }
        }
      ]
    },
    {
      "cell_type": "code",
      "source": [
        "tmp[['LDL콜레스테롤','총콜레스테롤']].corr() # 상관계수"
      ],
      "metadata": {
        "colab": {
          "base_uri": "https://localhost:8080/",
          "height": 112
        },
        "id": "5mCZ__ZoGf1D",
        "outputId": "9639d044-698b-4533-9533-47bf5e23946f"
      },
      "execution_count": 54,
      "outputs": [
        {
          "output_type": "execute_result",
          "data": {
            "text/html": [
              "<div>\n",
              "<style scoped>\n",
              "    .dataframe tbody tr th:only-of-type {\n",
              "        vertical-align: middle;\n",
              "    }\n",
              "\n",
              "    .dataframe tbody tr th {\n",
              "        vertical-align: top;\n",
              "    }\n",
              "\n",
              "    .dataframe thead th {\n",
              "        text-align: right;\n",
              "    }\n",
              "</style>\n",
              "<table border=\"1\" class=\"dataframe\">\n",
              "  <thead>\n",
              "    <tr style=\"text-align: right;\">\n",
              "      <th></th>\n",
              "      <th>LDL콜레스테롤</th>\n",
              "      <th>총콜레스테롤</th>\n",
              "    </tr>\n",
              "  </thead>\n",
              "  <tbody>\n",
              "    <tr>\n",
              "      <th>LDL콜레스테롤</th>\n",
              "      <td>1.000000</td>\n",
              "      <td>0.895564</td>\n",
              "    </tr>\n",
              "    <tr>\n",
              "      <th>총콜레스테롤</th>\n",
              "      <td>0.895564</td>\n",
              "      <td>1.000000</td>\n",
              "    </tr>\n",
              "  </tbody>\n",
              "</table>\n",
              "</div>"
            ],
            "text/plain": [
              "          LDL콜레스테롤    총콜레스테롤\n",
              "LDL콜레스테롤  1.000000  0.895564\n",
              "총콜레스테롤    0.895564  1.000000"
            ]
          },
          "metadata": {},
          "execution_count": 54
        }
      ]
    },
    {
      "cell_type": "code",
      "source": [
        "sns.regplot(data=tmp,x='LDL콜레스테롤',y='총콜레스테롤', line_kws={'color':'red'})"
      ],
      "metadata": {
        "colab": {
          "base_uri": "https://localhost:8080/",
          "height": 296
        },
        "id": "8eGE6y4CGyBO",
        "outputId": "44ccb174-2b6c-4fe9-c68f-82b81680a145"
      },
      "execution_count": 57,
      "outputs": [
        {
          "output_type": "execute_result",
          "data": {
            "text/plain": [
              "<matplotlib.axes._subplots.AxesSubplot at 0x7ff1cde63890>"
            ]
          },
          "metadata": {},
          "execution_count": 57
        },
        {
          "output_type": "display_data",
          "data": {
            "image/png": "[encoded data removed]",
            "text/plain": [
              "<Figure size 432x288 with 1 Axes>"
            ]
          },
          "metadata": {
            "needs_background": "light"
          }
        }
      ]
    },
    {
      "cell_type": "code",
      "source": [
        "# rugplot은 자료의 위치 확인 ->밀도 확인 가능\n",
        "\n",
        "sns.rugplot(data=rawData,x='총콜레스테롤',height=1)"
      ],
      "metadata": {
        "colab": {
          "base_uri": "https://localhost:8080/",
          "height": 296
        },
        "id": "uujCNpYvHEnG",
        "outputId": "b8ae7a6e-6dcb-4d73-9975-c9e1973e8120"
      },
      "execution_count": 59,
      "outputs": [
        {
          "output_type": "execute_result",
          "data": {
            "text/plain": [
              "<matplotlib.axes._subplots.AxesSubplot at 0x7ff1c49da2d0>"
            ]
          },
          "metadata": {},
          "execution_count": 59
        },
        {
          "output_type": "display_data",
          "data": {
            "image/png": "[encoded data removed]",
            "text/plain": [
              "<Figure size 432x288 with 1 Axes>"
            ]
          },
          "metadata": {
            "needs_background": "light"
          }
        }
      ]
    },
    {
      "cell_type": "markdown",
      "source": [
        "**파생변수**\n",
        "- 주어진 자료에서 타겟변수를 가장 잘 설명할 수 있는 새로운 변수를 만들어 내는 것 => 데이터마이닝\n",
        "- 여기서는 IDL콜레스테롤 수치 (총콜-HDL-LDL=IDL)\n",
        "- 트리글리세라이드가 중요한 변수라면 IDL은 중요한 변수"
      ],
      "metadata": {
        "id": "ID9WP2AwIxb5"
      }
    },
    {
      "cell_type": "code",
      "source": [
        "rawData['총콜레스테롤'] - (rawData['HDL콜레스테롤'] + rawData['LDL콜레스테롤'])"
      ],
      "metadata": {
        "colab": {
          "base_uri": "https://localhost:8080/"
        },
        "id": "WO6dcKv2Ieuj",
        "outputId": "72027aa7-4183-46e1-8ab2-6f2a5a87727b"
      },
      "execution_count": 79,
      "outputs": [
        {
          "output_type": "execute_result",
          "data": {
            "text/plain": [
              "0      20.0\n",
              "1      17.0\n",
              "2      11.0\n",
              "3       5.0\n",
              "4      30.0\n",
              "       ... \n",
              "995    21.0\n",
              "996    14.0\n",
              "997     9.0\n",
              "998    21.0\n",
              "999    16.0\n",
              "Length: 1000, dtype: float64"
            ]
          },
          "metadata": {},
          "execution_count": 79
        }
      ]
    },
    {
      "cell_type": "code",
      "source": [
        "rawData_IDL['IDL콜레스테롤'] = rawData['총콜레스테롤'] - (rawData['HDL콜레스테롤'] + rawData['LDL콜레스테롤'])\n",
        "rawData_IDL"
      ],
      "metadata": {
        "colab": {
          "base_uri": "https://localhost:8080/",
          "height": 190
        },
        "id": "9cJmgYBrJZKf",
        "outputId": "099c82a3-73ac-4955-9b11-8974a6800cd8"
      },
      "execution_count": 81,
      "outputs": [
        {
          "output_type": "error",
          "ename": "NameError",
          "evalue": "ignored",
          "traceback": [
            "\u001b[0;31m---------------------------------------------------------------------------\u001b[0m",
            "\u001b[0;31mNameError\u001b[0m                                 Traceback (most recent call last)",
            "\u001b[0;32m<ipython-input-81-f65da9f27fb1>\u001b[0m in \u001b[0;36m<module>\u001b[0;34m()\u001b[0m\n\u001b[0;32m----> 1\u001b[0;31m \u001b[0mrawData_IDL\u001b[0m\u001b[0;34m[\u001b[0m\u001b[0;34m'IDL콜레스테롤'\u001b[0m\u001b[0;34m]\u001b[0m \u001b[0;34m=\u001b[0m \u001b[0mrawData\u001b[0m\u001b[0;34m[\u001b[0m\u001b[0;34m'총콜레스테롤'\u001b[0m\u001b[0;34m]\u001b[0m \u001b[0;34m-\u001b[0m \u001b[0;34m(\u001b[0m\u001b[0mrawData\u001b[0m\u001b[0;34m[\u001b[0m\u001b[0;34m'HDL콜레스테롤'\u001b[0m\u001b[0;34m]\u001b[0m \u001b[0;34m+\u001b[0m \u001b[0mrawData\u001b[0m\u001b[0;34m[\u001b[0m\u001b[0;34m'LDL콜레스테롤'\u001b[0m\u001b[0;34m]\u001b[0m\u001b[0;34m)\u001b[0m\u001b[0;34m\u001b[0m\u001b[0;34m\u001b[0m\u001b[0m\n\u001b[0m\u001b[1;32m      2\u001b[0m \u001b[0mrawData_IDL\u001b[0m\u001b[0;34m\u001b[0m\u001b[0;34m\u001b[0m\u001b[0m\n",
            "\u001b[0;31mNameError\u001b[0m: name 'rawData_IDL' is not defined"
          ]
        }
      ]
    },
    {
      "cell_type": "markdown",
      "source": [
        "**연속형 변수 & 범주형 변수**\n",
        "- barplot(비율)"
      ],
      "metadata": {
        "id": "GyB73ugMg2_N"
      }
    },
    {
      "cell_type": "code",
      "source": [
        "# 흡연과 콜레스테롤\n",
        "sns.barplot(data=rawData_without_outlier. x='흡연상태',y='총콜레스테롤')"
      ],
      "metadata": {
        "colab": {
          "base_uri": "https://localhost:8080/",
          "height": 136
        },
        "id": "KBBC1zW4g2DM",
        "outputId": "512ed9a9-0cb7-4fa5-afc8-344ff0ad8777"
      },
      "execution_count": 65,
      "outputs": [
        {
          "output_type": "error",
          "ename": "SyntaxError",
          "evalue": "ignored",
          "traceback": [
            "\u001b[0;36m  File \u001b[0;32m\"<ipython-input-65-e0f1b2ff113d>\"\u001b[0;36m, line \u001b[0;32m2\u001b[0m\n\u001b[0;31m    sns.barplot(data=rawData_without_outlier. x='흡연상태',y='총콜레스테롤')\u001b[0m\n\u001b[0m                                               ^\u001b[0m\n\u001b[0;31mSyntaxError\u001b[0m\u001b[0;31m:\u001b[0m invalid syntax\n"
          ]
        }
      ]
    },
    {
      "cell_type": "code",
      "source": [
        "plt.figure(figsize=(12,5))\n",
        "plt.subplot(2,2,1)\n",
        "sns.countplot(data=rawData,x='흡연상태')\n",
        "\n",
        "plt.subplot( 2, 2, 2)\n",
        "sns.barplot(data=rawData, x='흡연상태', y='총콜레스테롤')\n",
        "\n",
        "plt.subplot( 2, 2, 3)\n",
        "sns.boxplot(data=rawData, x='흡연상태', y='총콜레스테롤')\n",
        "\n",
        "\n",
        "plt.show()"
      ],
      "metadata": {
        "colab": {
          "base_uri": "https://localhost:8080/",
          "height": 332
        },
        "id": "UYLSUqVFKKlN",
        "outputId": "4ec1149e-4f3d-480b-b177-6d1db687b5fe"
      },
      "execution_count": 77,
      "outputs": [
        {
          "output_type": "display_data",
          "data": {
            "image/png": "[encoded data removed]",
            "text/plain": [
              "<Figure size 864x360 with 3 Axes>"
            ]
          },
          "metadata": {
            "needs_background": "light"
          }
        }
      ]
    },
    {
      "cell_type": "code",
      "source": [
        "plt.subplots(2,2,figsize=(15,5))"
      ],
      "metadata": {
        "colab": {
          "base_uri": "https://localhost:8080/",
          "height": 430
        },
        "id": "EjzomPpExCFu",
        "outputId": "13c53e8e-5ef3-4634-a63d-535362688f75"
      },
      "execution_count": 73,
      "outputs": [
        {
          "output_type": "execute_result",
          "data": {
            "text/plain": [
              "(<Figure size 1080x360 with 4 Axes>,\n",
              " array([[<matplotlib.axes._subplots.AxesSubplot object at 0x7ff1c485ead0>,\n",
              "         <matplotlib.axes._subplots.AxesSubplot object at 0x7ff1cdcfbc50>],\n",
              "        [<matplotlib.axes._subplots.AxesSubplot object at 0x7ff1c4c93490>,\n",
              "         <matplotlib.axes._subplots.AxesSubplot object at 0x7ff1c4b04ed0>]],\n",
              "       dtype=object))"
            ]
          },
          "metadata": {},
          "execution_count": 73
        },
        {
          "output_type": "display_data",
          "data": {
            "image/png": "[encoded data removed]",
            "text/plain": [
              "<Figure size 1080x360 with 4 Axes>"
            ]
          },
          "metadata": {
            "needs_background": "light"
          }
        }
      ]
    },
    {
      "cell_type": "code",
      "source": [
        "fig, ax=plt.subplots(2,2,figsize=(15,5))\n",
        "sns.countplot(data=rawData,x='흡연상태', ax=ax[0,0])\n",
        "\n",
        "sns.barplot(data=rawData, x='흡연상태', y='총콜레스테롤',ax=ax[0,1])\n",
        "sns.boxplot(data=rawData, x='흡연상태', y='총콜레스테롤',ax=ax[1,0])"
      ],
      "metadata": {
        "colab": {
          "base_uri": "https://localhost:8080/",
          "height": 350
        },
        "id": "pmQ4TtOoxqEd",
        "outputId": "630e8967-26f7-4617-f905-cd52f7a167f9"
      },
      "execution_count": 76,
      "outputs": [
        {
          "output_type": "execute_result",
          "data": {
            "text/plain": [
              "<matplotlib.axes._subplots.AxesSubplot at 0x7ff1c4432a90>"
            ]
          },
          "metadata": {},
          "execution_count": 76
        },
        {
          "output_type": "display_data",
          "data": {
            "image/png": "[encoded data removed]",
            "text/plain": [
              "<Figure size 1080x360 with 4 Axes>"
            ]
          },
          "metadata": {
            "needs_background": "light"
          }
        }
      ]
    },
    {
      "cell_type": "markdown",
      "source": [
        "**색지정**\n",
        "https://seaborn.pydata.org/generated/seaborn.color_palette.html#seaborn.color_palette"
      ],
      "metadata": {
        "id": "tAuKDETYz335"
      }
    },
    {
      "cell_type": "code",
      "source": [
        "sns.palplot( sns.color_palette('hls', 20) )"
      ],
      "metadata": {
        "colab": {
          "base_uri": "https://localhost:8080/",
          "height": 89
        },
        "id": "18gOHmicyEVU",
        "outputId": "30c93cbd-a60d-4e9a-e306-5039af533dac"
      },
      "execution_count": 83,
      "outputs": [
        {
          "output_type": "display_data",
          "data": {
            "image/png": "[encoded data removed]",
            "text/plain": [
              "<Figure size 1440x72 with 1 Axes>"
            ]
          },
          "metadata": {
            "needs_background": "light"
          }
        }
      ]
    },
    {
      "cell_type": "code",
      "source": [
        "sns.palplot( sns.color_palette('coolwarm', 20) )"
      ],
      "metadata": {
        "colab": {
          "base_uri": "https://localhost:8080/",
          "height": 89
        },
        "id": "eKS1OzyPzGrg",
        "outputId": "ebd1a896-c94b-4467-afb3-f2072ee17538"
      },
      "execution_count": 86,
      "outputs": [
        {
          "output_type": "display_data",
          "data": {
            "image/png": "[encoded data removed]",
            "text/plain": [
              "<Figure size 1440x72 with 1 Axes>"
            ]
          },
          "metadata": {
            "needs_background": "light"
          }
        }
      ]
    },
    {
      "cell_type": "code",
      "source": [
        "colors=sns.color_palette('coolwarm')\n",
        "sns.countplot(data=rawData,x='연령대코드(5세단위)',palette=colors)"
      ],
      "metadata": {
        "colab": {
          "base_uri": "https://localhost:8080/",
          "height": 297
        },
        "id": "A-yzVlZkzeAU",
        "outputId": "3ea874a6-8fcf-45f1-a097-a76ba0ba5043"
      },
      "execution_count": 89,
      "outputs": [
        {
          "output_type": "execute_result",
          "data": {
            "text/plain": [
              "<matplotlib.axes._subplots.AxesSubplot at 0x7ff1c40ea6d0>"
            ]
          },
          "metadata": {},
          "execution_count": 89
        },
        {
          "output_type": "display_data",
          "data": {
            "image/png": "[encoded data removed]",
            "text/plain": [
              "<Figure size 432x288 with 1 Axes>"
            ]
          },
          "metadata": {
            "needs_background": "light"
          }
        }
      ]
    },
    {
      "cell_type": "code",
      "source": [
        ""
      ],
      "metadata": {
        "id": "UwVGn1Kvzvoz"
      },
      "execution_count": null,
      "outputs": []
    }
  ]
}