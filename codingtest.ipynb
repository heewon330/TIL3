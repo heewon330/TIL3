{
  "nbformat": 4,
  "nbformat_minor": 0,
  "metadata": {
    "colab": {
      "name": "codingtest.ipynb",
      "provenance": [],
      "collapsed_sections": [],
      "authorship_tag": "ABX9TyNauH2eAa5vwGFPDoD3yLzK",
      "include_colab_link": true
    },
    "kernelspec": {
      "name": "python3",
      "display_name": "Python 3"
    },
    "language_info": {
      "name": "python"
    }
  },
  "cells": [
    {
      "cell_type": "markdown",
      "metadata": {
        "id": "view-in-github",
        "colab_type": "text"
      },
      "source": [
        "<a href=\"https://colab.research.google.com/github/heewon330/TIL3/blob/master/codingtest.ipynb\" target=\"_parent\"><img src=\"https://colab.research.google.com/assets/colab-badge.svg\" alt=\"Open In Colab\"/></a>"
      ]
    },
    {
      "cell_type": "markdown",
      "source": [
        "#코딩 테스트 연습"
      ],
      "metadata": {
        "id": "vL_oXKRtyNF2"
      }
    },
    {
      "cell_type": "markdown",
      "source": [
        "##기본 문제"
      ],
      "metadata": {
        "id": "NCXc4H6P1p8t"
      }
    },
    {
      "cell_type": "markdown",
      "source": [
        "\n",
        "\n",
        "###1. power() 함수 작성하기\n",
        "\n",
        "n이 주어졌을 때, 2^n을 구하는 함수를 작성하세요\n",
        "함수의 리턴값은 2^n한 결과 입니다."
      ],
      "metadata": {
        "id": "ooUz21zzyCB9"
      }
    },
    {
      "cell_type": "code",
      "execution_count": null,
      "metadata": {
        "colab": {
          "base_uri": "https://localhost:8080/"
        },
        "id": "_w6KHAD7x_yG",
        "outputId": "b1cc4240-e8bc-44f8-afc6-55594855e815"
      },
      "outputs": [
        {
          "output_type": "execute_result",
          "data": {
            "text/plain": [
              "512"
            ]
          },
          "metadata": {},
          "execution_count": 2
        }
      ],
      "source": [
        "def power(n):\n",
        "  return 2**n\n",
        "\n",
        "power(9)"
      ]
    },
    {
      "cell_type": "markdown",
      "source": [
        "### 2. n ^ m 구하기\n",
        "임의의 정수 n, m이 주어졌을 때\n",
        "n ^ m 을 구하는 프로그램을 작성.\n",
        "임의의 정수는 5 이하의 정수라고 가정합니다.\n",
        "\n",
        "n ^ m = n(1) * n(2) * n(3) * ... * n(m)\n",
        "2 ^ 3 = 2 * 2 * 2\n",
        "5 ^ 4 = 5 * 5 * 5 * 5"
      ],
      "metadata": {
        "id": "_-viF4DMyjtX"
      }
    },
    {
      "cell_type": "code",
      "source": [
        "n=3\n",
        "m=4\n",
        "result=1\n",
        "for i in range(1,m+1):\n",
        "    result *= n\n",
        "\n",
        "print(result)"
      ],
      "metadata": {
        "colab": {
          "base_uri": "https://localhost:8080/"
        },
        "id": "Oa7ueq-NyjCI",
        "outputId": "dd75bdec-bd5f-4c45-b13c-a6c8fc0e522f"
      },
      "execution_count": null,
      "outputs": [
        {
          "output_type": "stream",
          "name": "stdout",
          "text": [
            "81\n"
          ]
        }
      ]
    },
    {
      "cell_type": "markdown",
      "source": [
        "### 3. 러시아농부의 곱셈\n",
        "왼쪽에 있는 수는 2로 나눠주고, 나머지는 버린다. (1이 될때까지 반복)\n",
        "오른쪽에 있는 수는 두배를 해준다.\n",
        "왼쪽에 있는 수가 홀수인 오른쪽의 수들을 모두 더해준다.\n",
        "\n",
        "123 x 12\n",
        "61 x 24\n",
        "30 x 48\n",
        "15 x 96\n",
        "7 x 192\n",
        "3 x 384\n",
        "1 x 768"
      ],
      "metadata": {
        "id": "p8WE40Rh1Yml"
      }
    },
    {
      "cell_type": "code",
      "source": [
        "n=123\n",
        "m=12\n",
        "sum=0\n",
        "while n>0:\n",
        "  #print(n,'X',m)\n",
        "\n",
        "  if n%2==1:\n",
        "    sum+=m\n",
        "  n=n//2\n",
        "  m=m*2\n",
        "\n",
        "print(sum)"
      ],
      "metadata": {
        "colab": {
          "base_uri": "https://localhost:8080/"
        },
        "id": "i0MEDJsSyeIk",
        "outputId": "d7d62301-bdf2-40e7-db61-6f067b87f562"
      },
      "execution_count": null,
      "outputs": [
        {
          "output_type": "stream",
          "name": "stdout",
          "text": [
            "1476\n"
          ]
        }
      ]
    },
    {
      "cell_type": "markdown",
      "source": [
        "### 4.팩토리얼 구하기\n",
        "정수 n이 주어졌을 때 n! 구하는 프로그램을 작성해봅니다.\n",
        "- n! = 1 * 2 * 3 * ... * n\n",
        "- 5! = 1 * 2 * 3 * 4 * 5"
      ],
      "metadata": {
        "id": "VHXkTZeSIMMF"
      }
    },
    {
      "cell_type": "code",
      "source": [
        "n=5\n",
        "result=1\n",
        "for i in range(1,n+1):\n",
        "  result *= i\n",
        "\n",
        "print(result)"
      ],
      "metadata": {
        "colab": {
          "base_uri": "https://localhost:8080/"
        },
        "id": "ifsZVFreH7U6",
        "outputId": "d073fcca-bc04-4c05-90fa-383b3228e031"
      },
      "execution_count": null,
      "outputs": [
        {
          "output_type": "stream",
          "name": "stdout",
          "text": [
            "120\n"
          ]
        }
      ]
    },
    {
      "cell_type": "markdown",
      "source": [
        "### 5. 유클리드 호제법\n",
        "두 수의 최대공약수(GCD)를 구하는 과정\n",
        "\n",
        "1. a, b가 주어졌을 때, b가 a보다 크면 b의 값을 a로, a의 값을 b로 지정한다.\n",
        "2. a를 b로 나눈 나머지를 n으로 지정한다.\n",
        "3. n이 0이면 b가 최대공약수이다. (종료)\n",
        "4. n이 0이 아니라면, a의 값을 b로, b의 값을 n로 지정하고, 2번으로 돌아간다."
      ],
      "metadata": {
        "id": "HJ5GJsfJoiWd"
      }
    },
    {
      "cell_type": "code",
      "source": [
        "# 구글링\n",
        "a=21\n",
        "b=15\n",
        "for i in range (a+1,1,-1):\n",
        "  if (a%i==0) &(b%i==0):\n",
        "    print(i)\n",
        "    break"
      ],
      "metadata": {
        "colab": {
          "base_uri": "https://localhost:8080/"
        },
        "id": "nRfkIxm2o1ji",
        "outputId": "6112731e-d834-4cee-9057-adf7ac78707a"
      },
      "execution_count": 28,
      "outputs": [
        {
          "output_type": "stream",
          "name": "stdout",
          "text": [
            "3\n"
          ]
        }
      ]
    },
    {
      "cell_type": "code",
      "source": [
        "def gcd(a,b):\n",
        "    if b > a:\n",
        "        a, b = b, a\n",
        "    n=a%b\n",
        "    if n == 0:\n",
        "        return b\n",
        "    else:\n",
        "        return gcd(b, n)\n",
        "gcd(12,16)"
      ],
      "metadata": {
        "colab": {
          "base_uri": "https://localhost:8080/"
        },
        "id": "oUvBQgQBtG4r",
        "outputId": "01187c61-ab73-42ae-921b-e7cd5129ce01"
      },
      "execution_count": 35,
      "outputs": [
        {
          "output_type": "execute_result",
          "data": {
            "text/plain": [
              "4"
            ]
          },
          "metadata": {},
          "execution_count": 35
        }
      ]
    },
    {
      "cell_type": "markdown",
      "source": [
        "### 6. 피보나치 수\n",
        "리스트 이용"
      ],
      "metadata": {
        "id": "FjMQkXsl0o86"
      }
    },
    {
      "cell_type": "code",
      "source": [
        ""
      ],
      "metadata": {
        "id": "1npZZGzL0iak"
      },
      "execution_count": null,
      "outputs": []
    }
  ]
}