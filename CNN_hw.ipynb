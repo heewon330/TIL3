{
  "nbformat": 4,
  "nbformat_minor": 0,
  "metadata": {
    "colab": {
      "name": "CNN_hw.ipynb",
      "provenance": [],
      "authorship_tag": "ABX9TyMpteLkYr7f7xYYDefiMsc+"
    },
    "kernelspec": {
      "name": "python3",
      "display_name": "Python 3"
    },
    "language_info": {
      "name": "python"
    }
  },
  "cells": [
    {
      "cell_type": "markdown",
      "source": [
        "코랩에서는 노트설정 TPU로 설정"
      ],
      "metadata": {
        "id": "JTAB0WEfoZ-8"
      }
    },
    {
      "cell_type": "code",
      "execution_count": null,
      "metadata": {
        "id": "P2-yL201wOq9",
        "colab": {
          "base_uri": "https://localhost:8080/"
        },
        "outputId": "8beaa298-8214-4ee1-9c11-67e0fc9966ce"
      },
      "outputs": [
        {
          "output_type": "stream",
          "name": "stdout",
          "text": [
            "Tensorflow version 2.7.0\n",
            "Running on TPU  ['10.72.194.146:8470']\n",
            "INFO:tensorflow:Deallocate tpu buffers before initializing tpu system.\n"
          ]
        },
        {
          "output_type": "stream",
          "name": "stderr",
          "text": [
            "INFO:tensorflow:Deallocate tpu buffers before initializing tpu system.\n"
          ]
        },
        {
          "output_type": "stream",
          "name": "stdout",
          "text": [
            "INFO:tensorflow:Initializing the TPU system: grpc://10.72.194.146:8470\n"
          ]
        },
        {
          "output_type": "stream",
          "name": "stderr",
          "text": [
            "INFO:tensorflow:Initializing the TPU system: grpc://10.72.194.146:8470\n"
          ]
        },
        {
          "output_type": "stream",
          "name": "stdout",
          "text": [
            "INFO:tensorflow:Finished initializing TPU system.\n"
          ]
        },
        {
          "output_type": "stream",
          "name": "stderr",
          "text": [
            "INFO:tensorflow:Finished initializing TPU system.\n",
            "WARNING:absl:`tf.distribute.experimental.TPUStrategy` is deprecated, please use  the non experimental symbol `tf.distribute.TPUStrategy` instead.\n"
          ]
        },
        {
          "output_type": "stream",
          "name": "stdout",
          "text": [
            "INFO:tensorflow:Found TPU system:\n"
          ]
        },
        {
          "output_type": "stream",
          "name": "stderr",
          "text": [
            "INFO:tensorflow:Found TPU system:\n"
          ]
        },
        {
          "output_type": "stream",
          "name": "stdout",
          "text": [
            "INFO:tensorflow:*** Num TPU Cores: 8\n"
          ]
        },
        {
          "output_type": "stream",
          "name": "stderr",
          "text": [
            "INFO:tensorflow:*** Num TPU Cores: 8\n"
          ]
        },
        {
          "output_type": "stream",
          "name": "stdout",
          "text": [
            "INFO:tensorflow:*** Num TPU Workers: 1\n"
          ]
        },
        {
          "output_type": "stream",
          "name": "stderr",
          "text": [
            "INFO:tensorflow:*** Num TPU Workers: 1\n"
          ]
        },
        {
          "output_type": "stream",
          "name": "stdout",
          "text": [
            "INFO:tensorflow:*** Num TPU Cores Per Worker: 8\n"
          ]
        },
        {
          "output_type": "stream",
          "name": "stderr",
          "text": [
            "INFO:tensorflow:*** Num TPU Cores Per Worker: 8\n"
          ]
        },
        {
          "output_type": "stream",
          "name": "stdout",
          "text": [
            "INFO:tensorflow:*** Available Device: _DeviceAttributes(/job:localhost/replica:0/task:0/device:CPU:0, CPU, 0, 0)\n"
          ]
        },
        {
          "output_type": "stream",
          "name": "stderr",
          "text": [
            "INFO:tensorflow:*** Available Device: _DeviceAttributes(/job:localhost/replica:0/task:0/device:CPU:0, CPU, 0, 0)\n"
          ]
        },
        {
          "output_type": "stream",
          "name": "stdout",
          "text": [
            "INFO:tensorflow:*** Available Device: _DeviceAttributes(/job:worker/replica:0/task:0/device:CPU:0, CPU, 0, 0)\n"
          ]
        },
        {
          "output_type": "stream",
          "name": "stderr",
          "text": [
            "INFO:tensorflow:*** Available Device: _DeviceAttributes(/job:worker/replica:0/task:0/device:CPU:0, CPU, 0, 0)\n"
          ]
        },
        {
          "output_type": "stream",
          "name": "stdout",
          "text": [
            "INFO:tensorflow:*** Available Device: _DeviceAttributes(/job:worker/replica:0/task:0/device:TPU:0, TPU, 0, 0)\n"
          ]
        },
        {
          "output_type": "stream",
          "name": "stderr",
          "text": [
            "INFO:tensorflow:*** Available Device: _DeviceAttributes(/job:worker/replica:0/task:0/device:TPU:0, TPU, 0, 0)\n"
          ]
        },
        {
          "output_type": "stream",
          "name": "stdout",
          "text": [
            "INFO:tensorflow:*** Available Device: _DeviceAttributes(/job:worker/replica:0/task:0/device:TPU:1, TPU, 0, 0)\n"
          ]
        },
        {
          "output_type": "stream",
          "name": "stderr",
          "text": [
            "INFO:tensorflow:*** Available Device: _DeviceAttributes(/job:worker/replica:0/task:0/device:TPU:1, TPU, 0, 0)\n"
          ]
        },
        {
          "output_type": "stream",
          "name": "stdout",
          "text": [
            "INFO:tensorflow:*** Available Device: _DeviceAttributes(/job:worker/replica:0/task:0/device:TPU:2, TPU, 0, 0)\n"
          ]
        },
        {
          "output_type": "stream",
          "name": "stderr",
          "text": [
            "INFO:tensorflow:*** Available Device: _DeviceAttributes(/job:worker/replica:0/task:0/device:TPU:2, TPU, 0, 0)\n"
          ]
        },
        {
          "output_type": "stream",
          "name": "stdout",
          "text": [
            "INFO:tensorflow:*** Available Device: _DeviceAttributes(/job:worker/replica:0/task:0/device:TPU:3, TPU, 0, 0)\n"
          ]
        },
        {
          "output_type": "stream",
          "name": "stderr",
          "text": [
            "INFO:tensorflow:*** Available Device: _DeviceAttributes(/job:worker/replica:0/task:0/device:TPU:3, TPU, 0, 0)\n"
          ]
        },
        {
          "output_type": "stream",
          "name": "stdout",
          "text": [
            "INFO:tensorflow:*** Available Device: _DeviceAttributes(/job:worker/replica:0/task:0/device:TPU:4, TPU, 0, 0)\n"
          ]
        },
        {
          "output_type": "stream",
          "name": "stderr",
          "text": [
            "INFO:tensorflow:*** Available Device: _DeviceAttributes(/job:worker/replica:0/task:0/device:TPU:4, TPU, 0, 0)\n"
          ]
        },
        {
          "output_type": "stream",
          "name": "stdout",
          "text": [
            "INFO:tensorflow:*** Available Device: _DeviceAttributes(/job:worker/replica:0/task:0/device:TPU:5, TPU, 0, 0)\n"
          ]
        },
        {
          "output_type": "stream",
          "name": "stderr",
          "text": [
            "INFO:tensorflow:*** Available Device: _DeviceAttributes(/job:worker/replica:0/task:0/device:TPU:5, TPU, 0, 0)\n"
          ]
        },
        {
          "output_type": "stream",
          "name": "stdout",
          "text": [
            "INFO:tensorflow:*** Available Device: _DeviceAttributes(/job:worker/replica:0/task:0/device:TPU:6, TPU, 0, 0)\n"
          ]
        },
        {
          "output_type": "stream",
          "name": "stderr",
          "text": [
            "INFO:tensorflow:*** Available Device: _DeviceAttributes(/job:worker/replica:0/task:0/device:TPU:6, TPU, 0, 0)\n"
          ]
        },
        {
          "output_type": "stream",
          "name": "stdout",
          "text": [
            "INFO:tensorflow:*** Available Device: _DeviceAttributes(/job:worker/replica:0/task:0/device:TPU:7, TPU, 0, 0)\n"
          ]
        },
        {
          "output_type": "stream",
          "name": "stderr",
          "text": [
            "INFO:tensorflow:*** Available Device: _DeviceAttributes(/job:worker/replica:0/task:0/device:TPU:7, TPU, 0, 0)\n"
          ]
        },
        {
          "output_type": "stream",
          "name": "stdout",
          "text": [
            "INFO:tensorflow:*** Available Device: _DeviceAttributes(/job:worker/replica:0/task:0/device:TPU_SYSTEM:0, TPU_SYSTEM, 0, 0)\n"
          ]
        },
        {
          "output_type": "stream",
          "name": "stderr",
          "text": [
            "INFO:tensorflow:*** Available Device: _DeviceAttributes(/job:worker/replica:0/task:0/device:TPU_SYSTEM:0, TPU_SYSTEM, 0, 0)\n"
          ]
        },
        {
          "output_type": "stream",
          "name": "stdout",
          "text": [
            "INFO:tensorflow:*** Available Device: _DeviceAttributes(/job:worker/replica:0/task:0/device:XLA_CPU:0, XLA_CPU, 0, 0)\n"
          ]
        },
        {
          "output_type": "stream",
          "name": "stderr",
          "text": [
            "INFO:tensorflow:*** Available Device: _DeviceAttributes(/job:worker/replica:0/task:0/device:XLA_CPU:0, XLA_CPU, 0, 0)\n"
          ]
        }
      ],
      "source": [
        "%tensorflow_version 2.x\n",
        "import tensorflow as tf\n",
        "print(\"Tensorflow version \" + tf.__version__)\n",
        "\n",
        "try:\n",
        "  tpu = tf.distribute.cluster_resolver.TPUClusterResolver()  # TPU detection\n",
        "  print('Running on TPU ', tpu.cluster_spec().as_dict()['worker'])\n",
        "except ValueError:\n",
        "  raise BaseException('ERROR: Not connected to a TPU runtime; please see the previous cell in this notebook for instructions!')\n",
        "\n",
        "tf.config.experimental_connect_to_cluster(tpu)\n",
        "tf.tpu.experimental.initialize_tpu_system(tpu)\n",
        "tpu_strategy = tf.distribute.experimental.TPUStrategy(tpu)"
      ]
    },
    {
      "cell_type": "code",
      "source": [
        "import warnings\n",
        "warnings.filterwarnings('always')\n",
        "warnings.filterwarnings('ignore')\n",
        "\n",
        "import numpy as np\n",
        "import pandas as pd\n",
        "\n",
        "import matplotlib.pyplot as plt\n",
        "import seaborn as sns\n",
        "\n",
        "from sklearn import datasets"
      ],
      "metadata": {
        "id": "7oFSDQ6sq0XD"
      },
      "execution_count": null,
      "outputs": []
    },
    {
      "cell_type": "markdown",
      "source": [
        "# CNN"
      ],
      "metadata": {
        "id": "SomEnrh7uQdu"
      }
    },
    {
      "cell_type": "markdown",
      "source": [
        "## 이미지 처리"
      ],
      "metadata": {
        "id": "7vUKvIZguTXz"
      }
    },
    {
      "cell_type": "code",
      "source": [
        "mnist_train = pd.read_csv('/content/sample_data/mnist_train_small.csv')\n",
        "mnist_test = pd.read_csv('/content/sample_data/mnist_test.csv')"
      ],
      "metadata": {
        "id": "2J7eYRgwuSxw"
      },
      "execution_count": null,
      "outputs": []
    },
    {
      "cell_type": "code",
      "source": [
        ""
      ],
      "metadata": {
        "id": "bE9UMfbcunwu"
      },
      "execution_count": null,
      "outputs": []
    },
    {
      "cell_type": "code",
      "source": [
        "(x_train, y_train), (x_test, y_test) = tf.keras.datasets.mnist.load_data()\n",
        "x_train, x_test = x_train / 255.0, x_test / 255.0"
      ],
      "metadata": {
        "id": "TLXExa9-ukeB",
        "colab": {
          "base_uri": "https://localhost:8080/"
        },
        "outputId": "f3876975-f1ee-4f86-aeb7-889fd83dc0c2"
      },
      "execution_count": null,
      "outputs": [
        {
          "output_type": "stream",
          "name": "stdout",
          "text": [
            "Downloading data from https://storage.googleapis.com/tensorflow/tf-keras-datasets/mnist.npz\n",
            "11493376/11490434 [==============================] - 0s 0us/step\n",
            "11501568/11490434 [==============================] - 0s 0us/step\n"
          ]
        }
      ]
    },
    {
      "cell_type": "markdown",
      "source": [
        "### 이미지 확인"
      ],
      "metadata": {
        "id": "Wjibebd_y7CF"
      }
    },
    {
      "cell_type": "code",
      "source": [
        "y_train[0]"
      ],
      "metadata": {
        "colab": {
          "base_uri": "https://localhost:8080/"
        },
        "id": "OONzvF3ty_WA",
        "outputId": "5e4d60f0-4285-4c6b-8402-e3b5550ab797"
      },
      "execution_count": null,
      "outputs": [
        {
          "output_type": "execute_result",
          "data": {
            "text/plain": [
              "5"
            ]
          },
          "metadata": {},
          "execution_count": 14
        }
      ]
    },
    {
      "cell_type": "code",
      "source": [
        "plt.imshow( x_train[0].reshape(28, 28), cmap='gray')\n",
        "plt.axis('off')\n",
        "plt.show()"
      ],
      "metadata": {
        "colab": {
          "base_uri": "https://localhost:8080/",
          "height": 248
        },
        "id": "wQ-ue15wyPem",
        "outputId": "a838a425-4b1b-47e4-c5fb-15400fc69e50"
      },
      "execution_count": null,
      "outputs": [
        {
          "output_type": "display_data",
          "data": {
            "image/png": "[encoded data removed]",
            "text/plain": [
              "<Figure size 432x288 with 1 Axes>"
            ]
          },
          "metadata": {
            "needs_background": "light"
          }
        }
      ]
    },
    {
      "cell_type": "code",
      "source": [
        "plt.figure( figsize=(21, 12) )\n",
        "for i in range(32):\n",
        "  plt.subplot(4, 8, 1 + i)\n",
        "  plt.imshow( x_train[i].reshape(28, 28), cmap='gray')\n",
        "  plt.axis('off')"
      ],
      "metadata": {
        "colab": {
          "base_uri": "https://localhost:8080/",
          "height": 515
        },
        "id": "_fGxM_TyzSYU",
        "outputId": "0aa8c4d1-62a2-4462-e79e-36c787f955ae"
      },
      "execution_count": null,
      "outputs": [
        {
          "output_type": "display_data",
          "data": {
            "image/png": "[encoded data removed]",
            "text/plain": [
              "<Figure size 1512x864 with 32 Axes>"
            ]
          },
          "metadata": {
            "needs_background": "light"
          }
        }
      ]
    },
    {
      "cell_type": "markdown",
      "source": [
        "- 0에서 9 사이의 숫자들의 손글씨를 이미지로 만든 것\n",
        "- 분류 모형을 이용해 이 숫자들의 분류기를 만들 것임\n",
        "- 케라스에서는 convolution을 layer로 취급함"
      ],
      "metadata": {
        "id": "GpgpkocHNcNm"
      }
    },
    {
      "cell_type": "markdown",
      "source": [
        "### Convolution"
      ],
      "metadata": {
        "id": "4FOkqglkN3lk"
      }
    },
    {
      "cell_type": "code",
      "source": [
        "# edge detection\n",
        "kernel1 = np.array([[-1, -1, -1],[-1, 8, -1],[-1, -1, -1]], dtype=np.float64).reshape(3, 3, 1, 1)\n",
        "\n",
        "# sharpen\n",
        "kernel2 = np.array([[0, -1, 0],[-1, 5, -1],[0, -1, 0]], dtype=np.float64).reshape(3, 3, 1, 1)\n",
        "\n",
        "# box blur\n",
        "kernel3 = np.array([[1, 1, 1],[1, 1, 1],[1, 1, 1],], dtype=np.float64).reshape(3, 3, 1, 1) * 1/9"
      ],
      "metadata": {
        "id": "Ni2zyPk8380X"
      },
      "execution_count": null,
      "outputs": []
    },
    {
      "cell_type": "code",
      "source": [
        "@tf.function\n",
        "def convolution( img, kernel ):\n",
        "  return tf.nn.conv2d( img, kernel, strides=[1, 1, 1, 1], padding='VALID')"
      ],
      "metadata": {
        "id": "dDqTD8gf7H-o"
      },
      "execution_count": null,
      "outputs": []
    },
    {
      "cell_type": "code",
      "source": [
        "img = tf.reshape( x_train[99], shape=[-1, 28, 28, 1] )\n",
        "out1 = convolution( img, kernel1 )\n",
        "out2 = convolution( img, kernel2 )\n",
        "out3 = convolution( img, kernel3 )\n",
        "\n",
        "plt.figure( figsize=(20, 3) )\n",
        "plt.subplot( 1, 4, 1 )\n",
        "plt.title(f'original image, shape={x_train[99].shape}')\n",
        "plt.imshow( x_train[99], cmap='gray')\n",
        "plt.axis('off')\n",
        "\n",
        "plt.subplot( 1, 4, 2 )\n",
        "plt.title(f'edge detection, shape={out1[0, :, :, 0].shape}')\n",
        "plt.imshow( out1[0, :, :, 0], cmap='gray')\n",
        "plt.axis('off')\n",
        "\n",
        "plt.subplot( 1, 4, 3 )\n",
        "plt.title(f'sharpen, shape={out2[0, :, :, 0].shape}')\n",
        "plt.imshow( out2[0, :, :, 0], cmap='gray')\n",
        "plt.axis('off')\n",
        "\n",
        "plt.subplot( 1, 4, 4 )\n",
        "plt.title(f'blur, shape={out3[0, :, :, 0].shape}')\n",
        "plt.imshow( out3[0, :, :, 0], cmap='gray')\n",
        "plt.axis('off')\n",
        "\n",
        "plt.show()"
      ],
      "metadata": {
        "colab": {
          "base_uri": "https://localhost:8080/",
          "height": 182
        },
        "id": "Uj3hNeZI7Zvo",
        "outputId": "06a7a69c-318d-49fa-c95c-db703ff2c6b0"
      },
      "execution_count": null,
      "outputs": [
        {
          "output_type": "display_data",
          "data": {
            "image/png": "[encoded data removed]",
            "text/plain": [
              "<Figure size 1440x216 with 4 Axes>"
            ]
          },
          "metadata": {
            "needs_background": "light"
          }
        }
      ]
    },
    {
      "cell_type": "markdown",
      "source": [
        "#### strides\n",
        "- 슬라이딩 윈도우를 하기 위한 값\n",
        " - 합성곱을 하기 위해 쭉 훑는 과정\n",
        "- 슬라이딩 윈도우를 하기 위한 간격"
      ],
      "metadata": {
        "id": "NbyhAzmm_anD"
      }
    },
    {
      "cell_type": "markdown",
      "source": [
        "#### padding\n",
        "- 이미지 바깥 영역에 제로 패딩을 넣어서 슬라이딩 진행\n",
        "- 엣지에 있는 값들을 살리기 위함\n",
        "- SAME : 제로 패딩을 넣어서 feature 추출\n",
        "- VALID : 제로 패딩을 넣지 않기 때문에 테두리 부분이 점점 희미해지면서 이미지 사이즈가 작아짐"
      ],
      "metadata": {
        "id": "eT8skkWJ_8dJ"
      }
    },
    {
      "cell_type": "markdown",
      "source": [
        "### Pooling"
      ],
      "metadata": {
        "id": "5uTlYeYiBB9h"
      }
    },
    {
      "cell_type": "code",
      "source": [
        "@tf.function\n",
        "def pooling( img ):\n",
        "  max_pool_2d = tf.keras.layers.MaxPool2D((2, 2))\n",
        "  return max_pool_2d(img)"
      ],
      "metadata": {
        "id": "m6gUU6EbODai"
      },
      "execution_count": null,
      "outputs": []
    },
    {
      "cell_type": "code",
      "source": [
        "ret1 = pooling( out1 )\n",
        "ret2 = pooling( out2 )\n",
        "ret3 = pooling( out3 )\n",
        "\n",
        "plt.figure( figsize=(15, 3) )\n",
        "plt.subplot( 1, 4, 1 )\n",
        "plt.title(f'original image, shape={x_train[99].shape}')\n",
        "plt.imshow( x_train[99], cmap='gray')\n",
        "plt.axis('off')\n",
        "\n",
        "plt.subplot( 1, 4, 2 )\n",
        "plt.title(f'edge detection, shape={ret1[0, :, :, 0].shape}')\n",
        "plt.imshow( ret1[0, :, :, 0], cmap='gray')\n",
        "plt.axis('off')\n",
        "\n",
        "plt.subplot( 1, 4, 3 )\n",
        "plt.title(f'sharpen, shape={ret2[0, :, :, 0].shape}')\n",
        "plt.imshow( ret2[0, :, :, 0], cmap='gray')\n",
        "plt.axis('off')\n",
        "\n",
        "plt.subplot( 1, 4, 4 )\n",
        "plt.title(f'blur, shape={ret3[0, :, :, 0].shape}')\n",
        "plt.imshow( ret3[0, :, :, 0], cmap='gray')\n",
        "plt.axis('off')\n",
        "\n",
        "plt.show()"
      ],
      "metadata": {
        "colab": {
          "base_uri": "https://localhost:8080/",
          "height": 210
        },
        "id": "faoVOAfzOT4N",
        "outputId": "202b6fcf-2729-440e-d1b5-6275929fae57"
      },
      "execution_count": null,
      "outputs": [
        {
          "output_type": "display_data",
          "data": {
            "image/png": "[encoded data removed]",
            "text/plain": [
              "<Figure size 1080x216 with 4 Axes>"
            ]
          },
          "metadata": {
            "needs_background": "light"
          }
        }
      ]
    },
    {
      "cell_type": "markdown",
      "source": [
        "#### strides\n",
        "- 슬라이딩 윈도우를 하기 위한 값\n",
        " - 합성곱을 하기 위해 쭉 훑는 과정\n",
        "- 슬라이딩 윈도우를 하기 위한 간격"
      ],
      "metadata": {
        "id": "qrH0FkrMa91Z"
      }
    },
    {
      "cell_type": "markdown",
      "source": [
        "#### padding\n",
        "- 이미지 바깥 영역에 제로 패딩을 넣어서 슬라이딩 진행\n",
        "- 엣지에 있는 값들을 살리기 위함\n",
        "- SAME : 제로 패딩을 넣어서 feature 추출\n",
        "- VALID : 제로 패딩을 넣지 않기 때문에 테두리 부분이 점점 희미해지면서 이미지 사이즈가 작아짐"
      ],
      "metadata": {
        "id": "V1FXjQXHa91a"
      }
    },
    {
      "cell_type": "markdown",
      "source": [
        "### Pooling"
      ],
      "metadata": {
        "id": "iRDAcUCba91a"
      }
    },
    {
      "cell_type": "code",
      "source": [
        "@tf.function\n",
        "def pooling( img ):\n",
        "  max_pool_2d = tf.keras.layers.MaxPool2D((2, 2))\n",
        "  return max_pool_2d(img)"
      ],
      "metadata": {
        "id": "GJs7AtLBa91a"
      },
      "execution_count": null,
      "outputs": []
    },
    {
      "cell_type": "code",
      "source": [
        "ret1 = pooling( out1 )\n",
        "ret2 = pooling( out2 )\n",
        "ret3 = pooling( out3 )\n",
        "\n",
        "plt.figure( figsize=(15, 3) )\n",
        "plt.subplot( 1, 4, 1 )\n",
        "plt.title(f'original image, shape={x_train[99].shape}')\n",
        "plt.imshow( x_train[99], cmap='gray')\n",
        "plt.axis('off')\n",
        "\n",
        "plt.subplot( 1, 4, 2 )\n",
        "plt.title(f'edge detection, shape={ret1[0, :, :, 0].shape}')\n",
        "plt.imshow( ret1[0, :, :, 0], cmap='gray')\n",
        "plt.axis('off')\n",
        "\n",
        "plt.subplot( 1, 4, 3 )\n",
        "plt.title(f'sharpen, shape={ret2[0, :, :, 0].shape}')\n",
        "plt.imshow( ret2[0, :, :, 0], cmap='gray')\n",
        "plt.axis('off')\n",
        "\n",
        "plt.subplot( 1, 4, 4 )\n",
        "plt.title(f'blur, shape={ret3[0, :, :, 0].shape}')\n",
        "plt.imshow( ret3[0, :, :, 0], cmap='gray')\n",
        "plt.axis('off')\n",
        "\n",
        "plt.show()"
      ],
      "metadata": {
        "colab": {
          "base_uri": "https://localhost:8080/",
          "height": 161
        },
        "outputId": "202b6fcf-2729-440e-d1b5-6275929fae57",
        "id": "5DcVbxvBa91a"
      },
      "execution_count": null,
      "outputs": [
        {
          "output_type": "display_data",
          "data": {
            "image/png": "[encoded data removed]",
            "text/plain": [
              "<Figure size 1080x216 with 4 Axes>"
            ]
          },
          "metadata": {
            "needs_background": "light"
          }
        }
      ]
    },
    {
      "cell_type": "markdown",
      "source": [
        "## 이미지 넷 구축(mnist)\n",
        "- convo1 * pooling 3번 진행해보기"
      ],
      "metadata": {
        "id": "pNM-QjXiRJFW"
      }
    },
    {
      "cell_type": "code",
      "source": [
        "model = tf.keras.models.Sequential()\n",
        "\n",
        "# Convolution Layer\n",
        "model.add( tf.keras.layers.Conv2D(64, (3, 3), activation='tanh', input_shape=(28, 28, 1)))\n",
        "#pooling layer\n",
        "model.add( tf.keras.layers.MaxPool2D((2,2)) )\n",
        "\n",
        "# Convolution Layer\n",
        "model.add( tf.keras.layers.Conv2D(64, (3, 3), activation='tanh', input_shape=(28, 28, 1)))\n",
        "#pooling layer\n",
        "model.add( tf.keras.layers.MaxPool2D((2,2)) )\n",
        "\n",
        "# Convolution Layer\n",
        "model.add( tf.keras.layers.Conv2D(64, (3, 3), activation='tanh', input_shape=(28, 28, 1)))\n",
        "#pooling layer\n",
        "model.add( tf.keras.layers.MaxPool2D((2,2)) )\n",
        "\n",
        "# neural net의 입력으로 넣기 위해 1차원으로 변경하기\n",
        "model.add(tf.keras.layers.Flatten())\n",
        "\n",
        "# Neural net 구성하기\n",
        "# hidden layer\n",
        "model.add(tf.keras.layers.Dense(4096,activation='tanh'))\n",
        "model.add(tf.keras.layers.Dense(4096,activation='tanh'))\n",
        "\n",
        "# output layer\n",
        "model.add(tf.keras.layers.Dense(10,activation='softmax')) # 분류모형의 마지막 activation는 항상 softmax\n",
        "\n",
        "# optimization\n",
        "model.compile(\n",
        "  loss = 'sparse_categorical_crossentropy',\n",
        "  metrics = ['accuracy'],\n",
        "  optimizer = 'Adam'\n",
        ")"
      ],
      "metadata": {
        "id": "BqruYrAzOXR1"
      },
      "execution_count": null,
      "outputs": []
    },
    {
      "cell_type": "code",
      "source": [
        "hist = model.fit(x_train, y_train, epochs=10, batch_size=1000, validation_split=0.2)"
      ],
      "metadata": {
        "colab": {
          "base_uri": "https://localhost:8080/"
        },
        "id": "4UJZVjOwUNTb",
        "outputId": "3767e2b4-e53c-4245-986c-39a50b555d53"
      },
      "execution_count": null,
      "outputs": [
        {
          "output_type": "stream",
          "name": "stdout",
          "text": [
            "Epoch 1/10\n",
            "48/48 [==============================] - 9s 174ms/step - loss: 0.5350 - accuracy: 0.8323 - val_loss: 0.1532 - val_accuracy: 0.9533\n",
            "Epoch 2/10\n",
            "48/48 [==============================] - 8s 163ms/step - loss: 0.1374 - accuracy: 0.9589 - val_loss: 0.1168 - val_accuracy: 0.9647\n",
            "Epoch 3/10\n",
            "48/48 [==============================] - 8s 163ms/step - loss: 0.0969 - accuracy: 0.9713 - val_loss: 0.0940 - val_accuracy: 0.9698\n",
            "Epoch 4/10\n",
            "48/48 [==============================] - 8s 166ms/step - loss: 0.0746 - accuracy: 0.9772 - val_loss: 0.0907 - val_accuracy: 0.9737\n",
            "Epoch 5/10\n",
            "48/48 [==============================] - 8s 162ms/step - loss: 0.0608 - accuracy: 0.9812 - val_loss: 0.0726 - val_accuracy: 0.9785\n",
            "Epoch 6/10\n",
            "48/48 [==============================] - 8s 163ms/step - loss: 0.0461 - accuracy: 0.9856 - val_loss: 0.0738 - val_accuracy: 0.9781\n",
            "Epoch 7/10\n",
            "48/48 [==============================] - 8s 163ms/step - loss: 0.0416 - accuracy: 0.9867 - val_loss: 0.0915 - val_accuracy: 0.9739\n",
            "Epoch 8/10\n",
            "48/48 [==============================] - 8s 162ms/step - loss: 0.0367 - accuracy: 0.9885 - val_loss: 0.0989 - val_accuracy: 0.9734\n",
            "Epoch 9/10\n",
            "48/48 [==============================] - 8s 163ms/step - loss: 0.0371 - accuracy: 0.9875 - val_loss: 0.0789 - val_accuracy: 0.9778\n",
            "Epoch 10/10\n",
            "48/48 [==============================] - 8s 162ms/step - loss: 0.0241 - accuracy: 0.9921 - val_loss: 0.0893 - val_accuracy: 0.9774\n"
          ]
        }
      ]
    },
    {
      "cell_type": "code",
      "source": [
        "hist.history.keys()"
      ],
      "metadata": {
        "colab": {
          "base_uri": "https://localhost:8080/"
        },
        "id": "9RxfASl5UsVw",
        "outputId": "4a75f1fa-7c28-4007-d5c6-13dbb16ab910"
      },
      "execution_count": null,
      "outputs": [
        {
          "output_type": "execute_result",
          "data": {
            "text/plain": [
              "dict_keys(['loss', 'accuracy', 'val_loss', 'val_accuracy'])"
            ]
          },
          "metadata": {},
          "execution_count": 30
        }
      ]
    },
    {
      "cell_type": "markdown",
      "source": [
        "### 학습 정확도"
      ],
      "metadata": {
        "id": "runTT4FvX03h"
      }
    },
    {
      "cell_type": "code",
      "source": [
        "plt.plot( hist.history['accuracy'], label='train')\n",
        "plt.plot( hist.history['val_accuracy'], label='validation') # 검증정확도(테스트 사용)\n",
        "plt.legend()\n",
        "plt.show()"
      ],
      "metadata": {
        "colab": {
          "base_uri": "https://localhost:8080/",
          "height": 269
        },
        "id": "9jIoPRY9XwH1",
        "outputId": "e9e34003-b57a-483c-9443-dbcc72b9fd59"
      },
      "execution_count": null,
      "outputs": [
        {
          "output_type": "display_data",
          "data": {
            "image/png": "[encoded data removed]",
            "text/plain": [
              "<Figure size 432x288 with 1 Axes>"
            ]
          },
          "metadata": {
            "needs_background": "light"
          }
        }
      ]
    },
    {
      "cell_type": "markdown",
      "source": [
        "### 손실함수"
      ],
      "metadata": {
        "id": "wgM2frGAYgzh"
      }
    },
    {
      "cell_type": "code",
      "source": [
        "plt.plot( hist.history['loss'], label='train')\n",
        "plt.plot( hist.history['val_loss'], label='validation') # 검증정확도\n",
        "plt.legend()\n",
        "plt.show()"
      ],
      "metadata": {
        "colab": {
          "base_uri": "https://localhost:8080/",
          "height": 265
        },
        "id": "7n6qN54EYUz9",
        "outputId": "70eaead8-95e9-420e-e2b7-34eb3c949624"
      },
      "execution_count": null,
      "outputs": [
        {
          "output_type": "display_data",
          "data": {
            "image/png": "[encoded data removed]",
            "text/plain": [
              "<Figure size 432x288 with 1 Axes>"
            ]
          },
          "metadata": {
            "needs_background": "light"
          }
        }
      ]
    },
    {
      "cell_type": "markdown",
      "source": [
        "### 예측\n",
        "- 학습에 사용 안된 test set을 이용"
      ],
      "metadata": {
        "id": "QRiZ2aI1ZC7D"
      }
    },
    {
      "cell_type": "code",
      "source": [
        "print(y_test[1000])"
      ],
      "metadata": {
        "colab": {
          "base_uri": "https://localhost:8080/"
        },
        "id": "WfCsPdI0Ymc1",
        "outputId": "29ee4051-4247-483b-c2a8-64b5f29fef07"
      },
      "execution_count": null,
      "outputs": [
        {
          "output_type": "stream",
          "name": "stdout",
          "text": [
            "9\n"
          ]
        }
      ]
    },
    {
      "cell_type": "code",
      "source": [
        "yhat=model.predict(x_test)"
      ],
      "metadata": {
        "id": "ZNujQq3jZOPo"
      },
      "execution_count": null,
      "outputs": []
    },
    {
      "cell_type": "code",
      "source": [
        "print(yhat[1000]) # 99%의 확률로 9로 예측\n",
        "print(np.argmax(yhat[1000]))"
      ],
      "metadata": {
        "colab": {
          "base_uri": "https://localhost:8080/"
        },
        "id": "UB79RrGfZSOg",
        "outputId": "0edf59be-4ced-4a14-acf3-b551e9d73bd3"
      },
      "execution_count": null,
      "outputs": [
        {
          "output_type": "stream",
          "name": "stdout",
          "text": [
            "[6.4179800e-11 5.1456514e-08 9.9446059e-12 2.3792416e-05 1.0517671e-07\n",
            " 1.3952733e-07 3.5901691e-15 5.2632866e-03 1.0135038e-08 9.9471271e-01]\n",
            "9\n"
          ]
        }
      ]
    },
    {
      "cell_type": "code",
      "source": [
        "plt.imshow( x_test[1000], cmap='gray')\n",
        "plt.axis('off')\n",
        "plt.show()"
      ],
      "metadata": {
        "colab": {
          "base_uri": "https://localhost:8080/",
          "height": 248
        },
        "id": "2FF0L6bdZW8g",
        "outputId": "464b1aad-5dfe-4318-b599-e641ba37ed27"
      },
      "execution_count": null,
      "outputs": [
        {
          "output_type": "display_data",
          "data": {
            "image/png": "[encoded data removed]",
            "text/plain": [
              "<Figure size 432x288 with 1 Axes>"
            ]
          },
          "metadata": {
            "needs_background": "light"
          }
        }
      ]
    }
  ]
}